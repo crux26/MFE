{
 "cells": [
  {
   "cell_type": "markdown",
   "metadata": {
    "slideshow": {
     "slide_type": "slide"
    },
    "toc": true
   },
   "source": [
    "<h1>Table of Contents<span class=\"tocSkip\"></span></h1>\n",
    "<div class=\"toc\"><ul class=\"toc-item\"><li><span><a href=\"#Python-installation\" data-toc-modified-id=\"Python-installation-1\"><span class=\"toc-item-num\">1&nbsp;&nbsp;</span>Python installation</a></span><ul class=\"toc-item\"><li><span><a href=\"#Warnings\" data-toc-modified-id=\"Warnings-1.1\"><span class=\"toc-item-num\">1.1&nbsp;&nbsp;</span>Warnings</a></span></li></ul></li><li><span><a href=\"#Python-version-dependency\" data-toc-modified-id=\"Python-version-dependency-2\"><span class=\"toc-item-num\">2&nbsp;&nbsp;</span>Python version dependency</a></span><ul class=\"toc-item\"><li><span><a href=\"#Some-libraries-depend-on-python-version\" data-toc-modified-id=\"Some-libraries-depend-on-python-version-2.1\"><span class=\"toc-item-num\">2.1&nbsp;&nbsp;</span>Some libraries depend on python version</a></span></li><li><span><a href=\"#virtual-environment\" data-toc-modified-id=\"virtual-environment-2.2\"><span class=\"toc-item-num\">2.2&nbsp;&nbsp;</span>virtual environment</a></span><ul class=\"toc-item\"><li><span><a href=\"#Create-a-virtual-environment\" data-toc-modified-id=\"Create-a-virtual-environment-2.2.1\"><span class=\"toc-item-num\">2.2.1&nbsp;&nbsp;</span>Create a virtual environment</a></span></li><li><span><a href=\"#Activate-a-virtual-environment\" data-toc-modified-id=\"Activate-a-virtual-environment-2.2.2\"><span class=\"toc-item-num\">2.2.2&nbsp;&nbsp;</span>Activate a virtual environment</a></span></li><li><span><a href=\"#Install-packages\" data-toc-modified-id=\"Install-packages-2.2.3\"><span class=\"toc-item-num\">2.2.3&nbsp;&nbsp;</span>Install packages</a></span></li><li><span><a href=\"#deactivate-a-virtual-environment\" data-toc-modified-id=\"deactivate-a-virtual-environment-2.2.4\"><span class=\"toc-item-num\">2.2.4&nbsp;&nbsp;</span>deactivate a virtual environment</a></span></li><li><span><a href=\"#Delete-a-virtual-environment\" data-toc-modified-id=\"Delete-a-virtual-environment-2.2.5\"><span class=\"toc-item-num\">2.2.5&nbsp;&nbsp;</span>Delete a virtual environment</a></span></li></ul></li></ul></li><li><span><a href=\"#Libraries\" data-toc-modified-id=\"Libraries-3\"><span class=\"toc-item-num\">3&nbsp;&nbsp;</span>Libraries</a></span><ul class=\"toc-item\"><li><span><a href=\"#...OR-just-install-Anaconda\" data-toc-modified-id=\"...OR-just-install-Anaconda-3.1\"><span class=\"toc-item-num\">3.1&nbsp;&nbsp;</span>...OR just install Anaconda</a></span></li><li><span><a href=\"#Warnings\" data-toc-modified-id=\"Warnings-3.2\"><span class=\"toc-item-num\">3.2&nbsp;&nbsp;</span>Warnings</a></span></li></ul></li><li><span><a href=\"#IDE-(Integrated-Development-Environment)\" data-toc-modified-id=\"IDE-(Integrated-Development-Environment)-4\"><span class=\"toc-item-num\">4&nbsp;&nbsp;</span>IDE (Integrated Development Environment)</a></span></li><li><span><a href=\"#Running-Python\" data-toc-modified-id=\"Running-Python-5\"><span class=\"toc-item-num\">5&nbsp;&nbsp;</span>Running Python</a></span></li><li><span><a href=\"#Magic-commands-for-IPython\" data-toc-modified-id=\"Magic-commands-for-IPython-6\"><span class=\"toc-item-num\">6&nbsp;&nbsp;</span>Magic commands for IPython</a></span><ul class=\"toc-item\"><li><span><a href=\"#Access-documentation-with-?\" data-toc-modified-id=\"Access-documentation-with-?-6.1\"><span class=\"toc-item-num\">6.1&nbsp;&nbsp;</span>Access documentation with ?</a></span></li><li><span><a href=\"#Access-source-code-with-??\" data-toc-modified-id=\"Access-source-code-with-??-6.2\"><span class=\"toc-item-num\">6.2&nbsp;&nbsp;</span>Access source code with ??</a></span></li><li><span><a href=\"#Add-path\" data-toc-modified-id=\"Add-path-6.3\"><span class=\"toc-item-num\">6.3&nbsp;&nbsp;</span>Add path</a></span><ul class=\"toc-item\"><li><span><a href=\"#sys-module\" data-toc-modified-id=\"sys-module-6.3.1\"><span class=\"toc-item-num\">6.3.1&nbsp;&nbsp;</span>sys module</a></span></li></ul></li><li><span><a href=\"#Tab-completion\" data-toc-modified-id=\"Tab-completion-6.4\"><span class=\"toc-item-num\">6.4&nbsp;&nbsp;</span>Tab completion</a></span></li><li><span><a href=\"#Wildcard-matching\" data-toc-modified-id=\"Wildcard-matching-6.5\"><span class=\"toc-item-num\">6.5&nbsp;&nbsp;</span>Wildcard matching</a></span></li></ul></li><li><span><a href=\"#List-of-packages\" data-toc-modified-id=\"List-of-packages-7\"><span class=\"toc-item-num\">7&nbsp;&nbsp;</span>List of packages</a></span></li><li><span><a href=\"#GitHub\" data-toc-modified-id=\"GitHub-8\"><span class=\"toc-item-num\">8&nbsp;&nbsp;</span>GitHub</a></span></li><li><span><a href=\"#References\" data-toc-modified-id=\"References-9\"><span class=\"toc-item-num\">9&nbsp;&nbsp;</span>References</a></span></li></ul></div>"
   ]
  },
  {
   "cell_type": "markdown",
   "metadata": {
    "slideshow": {
     "slide_type": "slide"
    }
   },
   "source": [
    "# Python installation\n",
    "1) Install python (https://www.python.org/): 25MB (python-3.8.1)\n",
    "\n",
    "2) Install Anaconda (https://www.anaconda.com): 400MB++ (python 3.7, 64 bit)\n",
    "\n",
    "3) Install Miniconda(https://www.anaconda.com): 50MB+ (python 3.7, 64 bit)\n",
    "\n",
    "    - Minimal installer for Anaconda: includes only conda, Python, a small number of other useful packages (pip, ...)\n",
    "    \n",
    "\n",
    "## Warnings\n",
    "- When installing both 1), 2), do **NOT check \"Add Anaconda to my PATH environment variable\"** for 2)\n",
    "\n",
    "\n",
    "- If done, then both Python will be tangled: computer cannot identify where to run\n",
    "    - If Numpy installed in Anaconda but in pip, *import numpy* may fail\n",
    "    \n",
    "\n",
    "- To run Anaconda-Python, run *Anaconda Prompt*\n",
    "    - If installed this way, CMD window does not recognize *python*, while Anaconda Prompt recognizes *python*"
   ]
  },
  {
   "cell_type": "code",
   "execution_count": 1,
   "metadata": {
    "slideshow": {
     "slide_type": "slide"
    }
   },
   "outputs": [
    {
     "data": {
      "text/html": [
       "<img src=\"https://img1.daumcdn.net/thumb/R1280x0/?scode=mtistory2&fname=http%3A%2F%2Fcfile10.uf.tistory.com%2Fimage%2F99D135355BE15074241B1D\" width=\"600\"/>"
      ],
      "text/plain": [
       "<IPython.core.display.Image object>"
      ]
     },
     "execution_count": 1,
     "metadata": {},
     "output_type": "execute_result"
    }
   ],
   "source": [
    "from IPython.display import Image\n",
    "Image(url= \"https://img1.daumcdn.net/thumb/R1280x0/?scode=mtistory2&fname=http%3A%2F%2Fcfile10.uf.tistory.com%2Fimage%2F99D135355BE15074241B1D\", width=600)"
   ]
  },
  {
   "cell_type": "markdown",
   "metadata": {
    "slideshow": {
     "slide_type": "slide"
    }
   },
   "source": [
    "# Python version dependency\n",
    "## Some libraries depend on python version\n",
    "- Keras: Machine learning library. Compatible with 2.7-3.6 (https://keras.io/)\n",
    "- Theano: Machine learning library. Compatible with 2.7 or >= 3.4 and < 3.6 (http://deeplearning.net/software/theano/index.html)\n",
    "\n",
    "1) \\\\$ conda update conda\n",
    "\n",
    "2) \\\\$ conda install python==3.6.9\n",
    "\n",
    "## virtual environment\n",
    "- 여러 python version이 필요한 경우 (e.g. 2.x and 3.x)\n",
    "\n",
    "### Create a virtual environment\n",
    "- \\\\$ conda create -n *yourenvname* python=x.x anaconda\n",
    "\n",
    "### Activate a virtual environment\n",
    "-  \\\\$ source activate *yourenvname*\n",
    "\n",
    "### Install packages\n",
    "- \\\\$ conda install -n *yourenvname* *packagename*\n",
    "\n",
    "### deactivate a virtual environment\n",
    "- \\\\$ source deactivate\n",
    "\n",
    "### Delete a virtual environment\n",
    "- \\\\$ conda remove -n *yourenvname* all"
   ]
  },
  {
   "cell_type": "markdown",
   "metadata": {
    "slideshow": {
     "slide_type": "slide"
    }
   },
   "source": [
    "# Libraries\n",
    "- Numpy\n",
    "    - multi-dimensional arrays\n",
    "    - *pip install numpy (conda install numpy)*\n",
    "        \n",
    "- Scipy\n",
    "    - useful functions (i.e. interpolation, ...)\n",
    "    - *pip install scipy (conda install scipy)*\n",
    "    \n",
    "- pandas\n",
    "    - Tabular data structure (relational data structure)\n",
    "    - data I/O: xlsx, csv, sas7bdat, ...\n",
    "    - *pip install pandas (conda install pandas)*\n",
    "    \n",
    "- matplotlib\n",
    "    - For plotting\n",
    "    - *pip install matplotlib (conda install matplotlib)*\n",
    "    \n",
    "## ...OR just install Anaconda\n",
    "- Anaconda package list: https://docs.anaconda.com/anaconda/packages/py3.7_win-64/\n",
    "\n",
    "\n",
    "- QuantEcon: Quantitative Economics (Sargent, Stachurski)\n",
    "- QuantLib: Quantitative Finance (https://www.quantlib.org/install/windows-python.shtml)\n",
    "\n",
    "## Warnings\n",
    "- Installing each library separately using *pip* is the standard method\n",
    "- Anaconda aggregates general-purpose libraries\n",
    "    - Anaconda may NOT support specific-purpose libraries (e.g. Tensorflow, Keras, ...)\n",
    "    - While *pip install ThisLibrary* works, *conda install ThisLibrary* may not work\n",
    "    - On the other hand, sometimes it's hard to install a library through pip\n",
    "    \n",
    "\n",
    "- Search for \"how to install *LibName*\"\n",
    "    - To install a library \"jupyter notebook\", \"*pip install jupyter*\" is needed"
   ]
  },
  {
   "cell_type": "code",
   "execution_count": 13,
   "metadata": {
    "slideshow": {
     "slide_type": "skip"
    }
   },
   "outputs": [
    {
     "data": {
      "image/png": "[encoded data removed]",
      "text/plain": [
       "<IPython.core.display.Image object>"
      ]
     },
     "execution_count": 13,
     "metadata": {
      "image/png": {
       "width": 1000
      }
     },
     "output_type": "execute_result"
    }
   ],
   "source": [
    "from IPython.display import Image\n",
    "Image(\"E:/Dropbox/Kalmuri/MFE_python/a.png\", width=1000)"
   ]
  },
  {
   "cell_type": "markdown",
   "metadata": {
    "slideshow": {
     "slide_type": "slide"
    }
   },
   "source": [
    "# IDE (Integrated Development Environment)\n",
    "\n",
    "- Language: 한글 $\\Leftrightarrow$ python\n",
    "- text editor: 메모장, 노트패드, 아래아 한글, MS-Word, ...\n",
    "- IDE: Jupyter notebook / Jupyter lab, Spyder, PyCharm, ...\n",
    "\n",
    "\n",
    "1) Spyder\n",
    "    - MATLAB과 비슷한 GUI. Variable explorer에서 변수들에 대한 정보를 확인 가능\n",
    "    \n",
    "2) Jupyter Notebook / Jupyter Lab\n",
    "    - 코드를 명시적으로 cell마다 나눠서 실행 가능\n",
    "    - web-based: print된 결과를 파일 자체에 저장 가능\n",
    "    - slideshow 지원\n",
    "    \n",
    "3) PyCharm\n",
    "    - 전문적인 기능을 제공하나, 설정이 다소 복잡하고 무거움\n",
    "    - project 개발에 적합하며, small stand-alone script 개발에는 비효율적\n"
   ]
  },
  {
   "cell_type": "markdown",
   "metadata": {
    "slideshow": {
     "slide_type": "slide"
    }
   },
   "source": [
    "# Running Python\n",
    "1) Interactive mode\n",
    "- to run simple commands to check the results right away\n",
    "- \">>>\" (Interactive Python) 에서 직접 line-by-line으로 실행 가능\n",
    "- \\\\$ sign $\\Leftrightarrow$ run in shell\n",
    "\n",
    "2) Script mode\n",
    "- Python 코드를 .py 확장자를 갖는 텍스트 파일로 저장한 뒤, *python filepath/filename.py*로 코드를 실행\n",
    "    - 예시: $ python C:/myCode.py\n",
    "    - 예시 (Jupyter notebook): ! python C:/myCode.py"
   ]
  },
  {
   "cell_type": "markdown",
   "metadata": {
    "slideshow": {
     "slide_type": "slide"
    }
   },
   "source": [
    "# Magic commands for IPython\n",
    "- https://ipython.readthedocs.io/en/stable/interactive/magics.html\n",
    "- $ \\% *magic*: print information about the magic function system\n",
    "\n",
    "\n",
    "- $ ! *commands*: run *commands* in shell\n",
    "\n",
    "\n",
    "- Run commands in CMD with Jupyter Notebook\n",
    "    - ! *commands*\n",
    "\n",
    "- %pwd: Return the current working directory path\n",
    "\n",
    "- %cd: Change the current working directory\n",
    "\n",
    "\n",
    "- %who: Print all interactive variables, with some minimal formatting\n",
    "\n",
    "- %who_ls: Return a sorted list of all interactive variables\n",
    "\n",
    "- %whos: Like %who, but gives some extra information about each variable\n",
    "\n",
    "\n",
    "- %time: time execution of a python statement or expression\n",
    "- %timeit: time execution of a python statement or expression; run multiple times\n",
    "\n",
    "\n",
    "- %debug: Activate the interactive debugger\n",
    "\n",
    "\n",
    "## Access documentation with ?\n",
    "## Access source code with ??\n",
    "- Sometimes ?? suffix doesn't display any source code\n",
    "- Generally because the object in question is not implemented in Python, but in C or some other compiled extension language\n",
    "- Particularly for Python's built-in objects and types"
   ]
  },
  {
   "cell_type": "code",
   "execution_count": 14,
   "metadata": {
    "slideshow": {
     "slide_type": "slide"
    }
   },
   "outputs": [],
   "source": [
    "def square(x):\n",
    "    '''return the square of x'''\n",
    "    return x**2\n",
    "square?"
   ]
  },
  {
   "cell_type": "code",
   "execution_count": 15,
   "metadata": {
    "slideshow": {
     "slide_type": "slide"
    }
   },
   "outputs": [],
   "source": [
    "square??"
   ]
  },
  {
   "cell_type": "markdown",
   "metadata": {
    "slideshow": {
     "slide_type": "slide"
    }
   },
   "source": [
    "## Add path\n",
    "- $ import os\n",
    "\n",
    "- $ os.getcwd()\n",
    "\n",
    "### sys module\n",
    "- **sys.path**: location where Python is searching for modules on your system\n",
    "- python script가 저장되어 있는 위치와 다른 path에 있다면, 해당 .py 파일을 실행하기 위해서는 **sys.path**에 추가해야 함"
   ]
  },
  {
   "cell_type": "code",
   "execution_count": 24,
   "metadata": {
    "collapsed": true,
    "slideshow": {
     "slide_type": "slide"
    }
   },
   "outputs": [
    {
     "data": {
      "text/plain": [
       "['C:\\\\Users\\\\crux_\\\\Anaconda3\\\\python36.zip',\n",
       " 'C:\\\\Users\\\\crux_\\\\Anaconda3\\\\DLLs',\n",
       " 'C:\\\\Users\\\\crux_\\\\Anaconda3\\\\lib',\n",
       " 'C:\\\\Users\\\\crux_\\\\Anaconda3',\n",
       " '',\n",
       " 'C:\\\\Users\\\\crux_\\\\AppData\\\\Roaming\\\\Python\\\\Python36\\\\site-packages',\n",
       " 'C:\\\\Users\\\\crux_\\\\Anaconda3\\\\lib\\\\site-packages',\n",
       " 'C:\\\\Users\\\\crux_\\\\Anaconda3\\\\lib\\\\site-packages\\\\win32',\n",
       " 'C:\\\\Users\\\\crux_\\\\Anaconda3\\\\lib\\\\site-packages\\\\win32\\\\lib',\n",
       " 'C:\\\\Users\\\\crux_\\\\Anaconda3\\\\lib\\\\site-packages\\\\Pythonwin',\n",
       " 'C:\\\\Users\\\\crux_\\\\Anaconda3\\\\lib\\\\site-packages\\\\IPython\\\\extensions',\n",
       " 'C:\\\\Users\\\\crux_\\\\.ipython']"
      ]
     },
     "metadata": {},
     "output_type": "display_data"
    },
    {
     "data": {
      "text/plain": [
       "['C:\\\\Users\\\\crux_\\\\Anaconda3\\\\python36.zip',\n",
       " 'C:\\\\Users\\\\crux_\\\\Anaconda3\\\\DLLs',\n",
       " 'C:\\\\Users\\\\crux_\\\\Anaconda3\\\\lib',\n",
       " 'C:\\\\Users\\\\crux_\\\\Anaconda3',\n",
       " '',\n",
       " 'C:\\\\Users\\\\crux_\\\\AppData\\\\Roaming\\\\Python\\\\Python36\\\\site-packages',\n",
       " 'C:\\\\Users\\\\crux_\\\\Anaconda3\\\\lib\\\\site-packages',\n",
       " 'C:\\\\Users\\\\crux_\\\\Anaconda3\\\\lib\\\\site-packages\\\\win32',\n",
       " 'C:\\\\Users\\\\crux_\\\\Anaconda3\\\\lib\\\\site-packages\\\\win32\\\\lib',\n",
       " 'C:\\\\Users\\\\crux_\\\\Anaconda3\\\\lib\\\\site-packages\\\\Pythonwin',\n",
       " 'C:\\\\Users\\\\crux_\\\\Anaconda3\\\\lib\\\\site-packages\\\\IPython\\\\extensions',\n",
       " 'C:\\\\Users\\\\crux_\\\\.ipython',\n",
       " 'C:\\\\myFolder']"
      ]
     },
     "metadata": {},
     "output_type": "display_data"
    },
    {
     "data": {
      "text/plain": [
       "['C:\\\\Users\\\\crux_\\\\Anaconda3\\\\python36.zip',\n",
       " 'C:\\\\Users\\\\crux_\\\\Anaconda3\\\\DLLs',\n",
       " 'C:\\\\Users\\\\crux_\\\\Anaconda3\\\\lib',\n",
       " 'C:\\\\Users\\\\crux_\\\\Anaconda3',\n",
       " '',\n",
       " 'C:\\\\Users\\\\crux_\\\\AppData\\\\Roaming\\\\Python\\\\Python36\\\\site-packages',\n",
       " 'C:\\\\Users\\\\crux_\\\\Anaconda3\\\\lib\\\\site-packages',\n",
       " 'C:\\\\Users\\\\crux_\\\\Anaconda3\\\\lib\\\\site-packages\\\\win32',\n",
       " 'C:\\\\Users\\\\crux_\\\\Anaconda3\\\\lib\\\\site-packages\\\\win32\\\\lib',\n",
       " 'C:\\\\Users\\\\crux_\\\\Anaconda3\\\\lib\\\\site-packages\\\\Pythonwin',\n",
       " 'C:\\\\Users\\\\crux_\\\\Anaconda3\\\\lib\\\\site-packages\\\\IPython\\\\extensions',\n",
       " 'C:\\\\Users\\\\crux_\\\\.ipython']"
      ]
     },
     "metadata": {},
     "output_type": "display_data"
    }
   ],
   "source": [
    "import sys\n",
    "display(sys.path)\n",
    "sys.path.append('C:\\\\myFolder')\n",
    "display(sys.path)\n",
    "sys.path.remove('C:\\\\myFolder')\n",
    "display(sys.path)"
   ]
  },
  {
   "cell_type": "markdown",
   "metadata": {
    "slideshow": {
     "slide_type": "slide"
    }
   },
   "source": [
    "## Tab completion\n",
    "- $ L = [1,2,3]\n",
    "\n",
    "- $ L.< TAB >\n",
    "\n",
    "- $ L.c< TAB >\n",
    "\n",
    "## Wildcard matching\n",
    "- $ *Warning?"
   ]
  },
  {
   "cell_type": "markdown",
   "metadata": {
    "slideshow": {
     "slide_type": "slide"
    }
   },
   "source": [
    "# List of packages"
   ]
  },
  {
   "cell_type": "code",
   "execution_count": 28,
   "metadata": {
    "slideshow": {
     "slide_type": "fragment"
    }
   },
   "outputs": [
    {
     "name": "stdout",
     "output_type": "stream",
     "text": [
      "# packages in environment at C:\\Users\\crux_\\Anaconda3:\n",
      "#\n",
      "# Name                    Version                   Build  Channel\n",
      "_anaconda_depends         2019.03                  py36_0  \n",
      "_ipyw_jlab_nb_ext_conf    0.1.0                    py36_0  \n",
      "absl-py                   0.9.0                    pypi_0    pypi\n",
      "alabaster                 0.7.12                   py36_0  \n",
      "anaconda                  custom                   py36_1  \n",
      "anaconda-client           1.7.2                    py36_0  \n",
      "anaconda-navigator        1.9.7                    py36_0  \n",
      "anaconda-project          0.8.4                      py_0  \n",
      "argh                      0.26.2                   py36_0  \n",
      "asn1crypto                1.3.0                    py36_0  \n",
      "astor                     0.8.1                    pypi_0    pypi\n",
      "astroid                   2.3.3                    py36_0  \n",
      "astropy                   4.0              py36he774522_0  \n",
      "atomicwrites              1.3.0                    py36_1  \n",
      "attrs                     19.3.0                     py_0  \n",
      "autopep8                  1.4.4                      py_0  \n",
      "babel                     2.8.0                      py_0  \n",
      "backcall                  0.1.0                    py36_0  \n",
      "backports                 1.0                        py_2  \n",
      "backports.functools_lru_cache 1.6.1                      py_0  \n",
      "backports.os              0.1.1                    py36_0  \n",
      "backports.shutil_get_terminal_size 1.0.0                    py36_2  \n",
      "backports.tempfile        1.0                        py_1  \n",
      "backports.weakref         1.0.post1                  py_1  \n",
      "bcrypt                    3.1.7            py36he774522_0  \n",
      "beautifulsoup4            4.8.2                    py36_0  \n",
      "bitarray                  1.2.0            py36he774522_0  \n",
      "bkcharts                  0.2              py36h7e685f7_0  \n",
      "blas                      1.0                         mkl  \n",
      "bleach                    3.1.0                    py36_0  \n",
      "blosc                     1.16.3               h7bd577a_0  \n",
      "bokeh                     1.4.0                    py36_0  \n",
      "boto                      2.49.0                   py36_0  \n",
      "bottleneck                1.3.1            py36h8c2d366_0  \n",
      "bzip2                     1.0.8                he774522_0  \n",
      "ca-certificates           2019.11.27                    0  \n",
      "cachetools                4.0.0                    pypi_0    pypi\n",
      "certifi                   2019.11.28               py36_0  \n",
      "cffi                      1.13.2           py36h7a1dbc1_0  \n",
      "chardet                   3.0.4                 py36_1003  \n",
      "click                     7.0                      py36_0  \n",
      "cloudpickle               1.2.2                      py_0  \n",
      "clyent                    1.2.2                    py36_1  \n",
      "colorama                  0.4.3                      py_0  \n",
      "comtypes                  1.1.7                    py36_0  \n",
      "conda                     4.8.0                    py36_1  \n",
      "conda-build               3.18.11                  py36_0  \n",
      "conda-env                 2.6.0                         1  \n",
      "conda-package-handling    1.6.0            py36h62dcd97_0  \n",
      "conda-verify              3.4.2                      py_1  \n",
      "console_shortcut          0.1.1                         3  \n",
      "contextlib2               0.6.0.post1                py_0  \n",
      "cryptography              2.8              py36h7a1dbc1_0  \n",
      "cudatoolkit               10.1.243             h74a9793_0  \n",
      "curl                      7.67.0               h2a8f88b_0  \n",
      "cycler                    0.10.0           py36h009560c_0  \n",
      "cython                    0.29.14          py36ha925a31_0  \n",
      "cytoolz                   0.10.1           py36he774522_0  \n",
      "dask                      2.9.1                      py_0  \n",
      "dask-core                 2.9.1                      py_0  \n",
      "decorator                 4.4.1                      py_0  \n",
      "defusedxml                0.6.0                      py_0  \n",
      "diff-match-patch          20181111                   py_0  \n",
      "dill                      0.3.1.1                  py36_0  \n",
      "distributed               2.9.1                      py_0  \n",
      "docutils                  0.15.2                   py36_0  \n",
      "entrypoints               0.3                      py36_0  \n",
      "et_xmlfile                1.0.1            py36h3d2d736_0  \n",
      "fastcache                 1.1.0            py36he774522_0  \n",
      "filelock                  3.0.12                     py_0  \n",
      "flake8                    3.7.9                    py36_0  \n",
      "flask                     1.1.1                      py_0  \n",
      "freetype                  2.9.1                ha9979f8_1  \n",
      "fsspec                    0.6.2                      py_0  \n",
      "future                    0.18.2                   py36_0  \n",
      "gast                      0.2.2                    pypi_0    pypi\n",
      "get_terminal_size         1.0.0                h38e98db_0  \n",
      "gevent                    1.4.0            py36he774522_0  \n",
      "glob2                     0.7                        py_0  \n",
      "google-auth               1.10.0                   pypi_0    pypi\n",
      "google-auth-oauthlib      0.4.1                    pypi_0    pypi\n",
      "google-pasta              0.1.8                    pypi_0    pypi\n",
      "googleapis-common-protos  1.6.0                    pypi_0    pypi\n",
      "graphviz                  2.38                 hfd603c8_2  \n",
      "greenlet                  0.4.15           py36hfa6e2cd_0  \n",
      "grpcio                    1.26.0                   pypi_0    pypi\n",
      "h5py                      2.9.0            py36h5e291fa_0  \n",
      "hdf5                      1.10.4               h7ebc959_0  \n",
      "heapdict                  1.0.1                      py_0  \n",
      "html5lib                  1.0.1                    py36_0  \n",
      "hypothesis                4.54.2                   py36_0  \n",
      "icc_rt                    2019.0.0             h0cc432a_1  \n",
      "icu                       58.2                 ha66f8fd_1  \n",
      "idna                      2.8                      py36_0  \n",
      "imageio                   2.6.1                    py36_0  \n",
      "imagesize                 1.2.0                      py_0  \n",
      "importlib_metadata        1.3.0                    py36_0  \n",
      "intel-openmp              2019.4                      245  \n",
      "intervaltree              3.0.2                      py_0  \n",
      "ipykernel                 5.1.3            py36h39e3cac_0  \n",
      "ipython                   7.11.1           py36h39e3cac_0  \n",
      "ipython_genutils          0.2.0                    py36_0  \n",
      "ipywidgets                7.5.1                      py_0  \n",
      "isort                     4.3.21                   py36_0  \n",
      "itsdangerous              1.1.0                    py36_0  \n",
      "jdcal                     1.4.1                      py_0  \n",
      "jedi                      0.14.1                   py36_0  \n",
      "jinja2                    2.10.3                     py_0  \n",
      "joblib                    0.14.1                     py_0  \n",
      "jpeg                      9b                   hb83a4c4_2  \n",
      "json5                     0.8.5                      py_0  \n",
      "jsonschema                3.2.0                    py36_0  \n",
      "jupyter                   1.0.0                    py36_7  \n",
      "jupyter_client            5.3.4                    py36_0  \n",
      "jupyter_console           6.0.0                    py36_0  \n",
      "jupyter_contrib_core      0.3.3                      py_2    conda-forge\n",
      "jupyter_contrib_nbextensions 0.5.1                    py36_0    conda-forge\n",
      "jupyter_core              4.6.1                    py36_0  \n",
      "jupyter_highlight_selected_word 0.2.0                 py36_1000    conda-forge\n",
      "jupyter_latex_envs        1.4.4                 py36_1000    conda-forge\n",
      "jupyter_nbextensions_configurator 0.4.1                    py36_0    conda-forge\n",
      "jupyterlab                1.2.4              pyhf63ae98_0  \n",
      "jupyterlab_server         1.0.6                      py_0  \n",
      "keras                     2.3.1                    pypi_0    pypi\n",
      "keras-applications        1.0.8                    pypi_0    pypi\n",
      "keras-preprocessing       1.1.0                    pypi_0    pypi\n",
      "keyring                   20.0.0                   py36_0  \n",
      "kiwisolver                1.1.0            py36ha925a31_0  \n",
      "krb5                      1.16.4               hc04afaa_0  \n",
      "lazy-object-proxy         1.4.3            py36he774522_0  \n",
      "libarchive                3.3.3                h0643e63_5  \n",
      "libcurl                   7.67.0               h2a8f88b_0  \n",
      "libiconv                  1.15                 h1df5818_7  \n",
      "liblief                   0.9.0                ha925a31_2  \n",
      "libpng                    1.6.37               h2a8f88b_0  \n",
      "libsodium                 1.0.16               h9d3ae62_0  \n",
      "libspatialindex           1.9.3                h33f27b4_0  \n",
      "libssh2                   1.8.2                h7a1dbc1_0  \n",
      "libtiff                   4.1.0                h56a325e_0  \n",
      "libxml2                   2.9.9                h464c3ec_0  \n",
      "libxslt                   1.1.33               h579f668_0  \n",
      "lightgbm                  2.3.1                    pypi_0    pypi\n",
      "llvmlite                  0.31.0           py36ha925a31_0  \n",
      "locket                    0.2.0            py36hfed976d_1  \n",
      "lxml                      4.4.2            py36h1350720_0  \n",
      "lz4-c                     1.8.1.2              h2fa13f4_0  \n",
      "lzo                       2.10                 h6df0209_2  \n",
      "m2w64-gcc-libgfortran     5.3.0                         6  \n",
      "m2w64-gcc-libs            5.3.0                         7  \n",
      "m2w64-gcc-libs-core       5.3.0                         7  \n",
      "m2w64-gmp                 6.1.0                         2  \n",
      "m2w64-libwinpthread-git   5.0.0.4634.697f757               2  \n",
      "markdown                  3.1.1                    pypi_0    pypi\n",
      "markupsafe                1.1.1            py36he774522_0  \n",
      "matplotlib                3.1.1            py36hc8f65d3_0  \n",
      "mccabe                    0.6.1                    py36_1  \n",
      "menuinst                  1.4.16           py36he774522_0  \n",
      "mistune                   0.8.4            py36he774522_0  \n",
      "mkl                       2019.4                      245  \n",
      "mkl-service               2.3.0            py36hb782905_0  \n",
      "mkl_fft                   1.0.15           py36h14836fe_0  \n",
      "mkl_random                1.1.0            py36h675688f_0  \n",
      "mock                      3.0.5                    py36_0  \n",
      "more-itertools            8.0.2                      py_0  \n",
      "mpmath                    1.1.0                    py36_0  \n",
      "msgpack-python            0.6.1            py36h74a9793_1  \n",
      "msys2-conda-epoch         20160418                      1  \n",
      "multipledispatch          0.6.0                    py36_0  \n",
      "navigator-updater         0.2.1                    py36_0  \n",
      "nbconvert                 5.6.1                    py36_0  \n",
      "nbformat                  4.4.0                    py36_0  \n",
      "networkx                  2.4                        py_0  \n",
      "ninja                     1.9.0            py36h74a9793_0  \n",
      "nltk                      3.4.5                    py36_0  \n",
      "nose                      1.3.7                    py36_2  \n",
      "notebook                  6.0.2                    py36_0  \n",
      "numba                     0.47.0           py36hf9181ef_0  \n",
      "numexpr                   2.7.0            py36hdce8814_0  \n",
      "numpy                     1.17.4           py36h4320e6b_0  \n",
      "numpy-base                1.17.4           py36hc3f5095_0  \n",
      "numpydoc                  0.9.2                      py_0  \n",
      "oauthlib                  3.1.0                    pypi_0    pypi\n",
      "olefile                   0.46                     py36_0  \n",
      "openpyxl                  3.0.2                      py_0  \n",
      "openssl                   1.1.1d               he774522_3  \n",
      "opt-einsum                3.1.0                    pypi_0    pypi\n",
      "packaging                 20.0                       py_0  \n",
      "pandas                    0.25.3           py36ha925a31_0  \n",
      "pandoc                    2.2.3.2                       0  \n",
      "pandocfilters             1.4.2                    py36_1  \n",
      "paramiko                  2.6.0                    py36_0  \n",
      "parso                     0.5.2                      py_0  \n",
      "partd                     1.1.0                      py_0  \n",
      "path                      13.1.0                   py36_0  \n",
      "path.py                   12.4.0                        0  \n",
      "pathlib2                  2.3.5                    py36_0  \n",
      "pathtools                 0.1.2                      py_1  \n",
      "patsy                     0.5.1                    py36_0  \n",
      "pep8                      1.7.1                    py36_0  \n",
      "pexpect                   4.7.0                    py36_0  \n",
      "pickleshare               0.7.5                    py36_0  \n",
      "pillow                    7.0.0            py36hcc1f983_0  \n",
      "pip                       19.3.1                   py36_0  \n",
      "pkginfo                   1.5.0.1                  py36_0  \n",
      "pluggy                    0.13.1                   py36_0  \n",
      "ply                       3.11                     py36_0  \n",
      "powershell_shortcut       0.0.1                         2  \n",
      "prometheus_client         0.7.1                      py_0  \n",
      "promise                   2.3                      pypi_0    pypi\n",
      "prompt_toolkit            2.0.10                     py_0  \n",
      "protobuf                  3.11.1                   pypi_0    pypi\n",
      "psutil                    5.6.7            py36he774522_0  \n",
      "py                        1.8.1                      py_0  \n",
      "py-lief                   0.9.0            py36ha925a31_2  \n",
      "pyasn1                    0.4.8                    pypi_0    pypi\n",
      "pyasn1-modules            0.2.7                    pypi_0    pypi\n",
      "pycodestyle               2.5.0                    py36_0  \n",
      "pycosat                   0.6.3            py36he774522_0  \n",
      "pycparser                 2.19                     py36_0  \n",
      "pycrypto                  2.6.1            py36hfa6e2cd_9  \n",
      "pycurl                    7.43.0.3         py36h7a1dbc1_0  \n",
      "pydocstyle                4.0.1                      py_0  \n",
      "pydot                     1.4.1                    pypi_0    pypi\n",
      "pyflakes                  2.1.1                    py36_0  \n",
      "pygments                  2.5.2                      py_0  \n",
      "pylint                    2.4.4                    py36_0  \n",
      "pynacl                    1.3.0            py36h62dcd97_0  \n",
      "pyodbc                    4.0.27           py36ha925a31_0  \n",
      "pyopenssl                 19.1.0                   py36_0  \n",
      "pyparsing                 2.4.6                      py_0  \n",
      "pyqt                      5.9.2            py36h6538335_2  \n",
      "pyreadline                2.1                      py36_1  \n",
      "pyrsistent                0.15.6           py36he774522_0  \n",
      "pysocks                   1.7.1                    py36_0  \n",
      "pytables                  3.6.1            py36h1da0976_0  \n",
      "pytest                    5.3.2                    py36_0  \n",
      "pytest-arraydiff          0.3              py36h39e3cac_0  \n",
      "pytest-astropy            0.7.0                      py_0  \n",
      "pytest-astropy-header     0.1.1                      py_0  \n",
      "pytest-doctestplus        0.5.0                      py_0  \n",
      "pytest-openfiles          0.4.0                      py_0  \n",
      "pytest-remotedata         0.3.2                    py36_0  \n",
      "python                    3.6.9                h5500b2f_0  \n",
      "python-dateutil           2.8.1                      py_0  \n",
      "python-graphviz           0.13.2                   pypi_0    pypi\n",
      "python-jsonrpc-server     0.3.2                      py_0  \n",
      "python-language-server    0.31.2                   py36_0  \n",
      "python-libarchive-c       2.8                     py36_13  \n",
      "pytorch                   1.3.1           py3.6_cuda101_cudnn7_0    pytorch\n",
      "pytz                      2019.3                     py_0  \n",
      "pywavelets                1.1.1            py36he774522_0  \n",
      "pywin32                   227              py36he774522_0  \n",
      "pywin32-ctypes            0.2.0                    py36_0  \n",
      "pywinpty                  0.5.7                    py36_0  \n",
      "pyyaml                    5.2              py36he774522_0  \n",
      "pyzmq                     18.1.0           py36ha925a31_0  \n",
      "qdarkstyle                2.7                        py_0  \n",
      "qt                        5.9.7            vc14h73c81de_0  \n",
      "qtawesome                 0.6.0                      py_0  \n",
      "qtconsole                 4.6.0                      py_1  \n",
      "qtpy                      1.9.0                      py_0  \n",
      "requests                  2.22.0                   py36_1  \n",
      "requests-oauthlib         1.3.0                    pypi_0    pypi\n",
      "rise                      5.6.0                    py36_0    conda-forge\n",
      "rope                      0.14.0                     py_0  \n",
      "rsa                       4.0                      pypi_0    pypi\n",
      "rtree                     0.8.3                    py36_0  \n",
      "ruamel_yaml               0.15.87          py36he774522_0  \n",
      "sas7bdat                  2.2.3                    pypi_0    pypi\n",
      "scikit-image              0.15.0           py36ha925a31_0  \n",
      "scikit-learn              0.22.1           py36h6288b17_0  \n",
      "scipy                     1.3.2            py36h29ff71c_0  \n",
      "seaborn                   0.9.0              pyh91ea838_1  \n",
      "send2trash                1.5.0                    py36_0  \n",
      "setuptools                44.0.0                   py36_0  \n",
      "simplegeneric             0.8.1                    py36_2  \n",
      "singledispatch            3.4.0.3          py36h17d0c80_0  \n",
      "sip                       4.19.8           py36h6538335_0  \n",
      "six                       1.13.0                   py36_0  \n",
      "snappy                    1.1.7                h777316e_3  \n",
      "snowballstemmer           2.0.0                      py_0  \n",
      "sortedcollections         1.1.2                    py36_0  \n",
      "sortedcontainers          2.1.0                    py36_0  \n",
      "soupsieve                 1.9.5                    py36_0  \n",
      "sphinx                    2.3.1                      py_0  \n",
      "sphinxcontrib             1.0                      py36_1  \n",
      "sphinxcontrib-applehelp   1.0.1                      py_0  \n",
      "sphinxcontrib-devhelp     1.0.1                      py_0  \n",
      "sphinxcontrib-htmlhelp    1.0.2                      py_0  \n",
      "sphinxcontrib-jsmath      1.0.1                      py_0  \n",
      "sphinxcontrib-qthelp      1.0.2                      py_0  \n",
      "sphinxcontrib-serializinghtml 1.1.3                      py_0  \n",
      "sphinxcontrib-websupport  1.1.2                      py_0  \n",
      "spyder                    4.0.1                    py36_0  \n",
      "spyder-kernels            1.8.1                    py36_0  \n",
      "sqlalchemy                1.3.12           py36he774522_0  \n",
      "sqlite                    3.30.1               he774522_0  \n",
      "statsmodels               0.10.1           py36h8c2d366_0  \n",
      "sympy                     1.5.1                    py36_0  \n",
      "tbb                       2019.4               h74a9793_0  \n",
      "tblib                     1.6.0                      py_0  \n",
      "tensorboard               2.0.2                    pypi_0    pypi\n",
      "tensorflow-datasets       1.3.2                    pypi_0    pypi\n",
      "tensorflow-estimator      2.0.1                    pypi_0    pypi\n",
      "tensorflow-gpu            2.0.0                    pypi_0    pypi\n",
      "tensorflow-metadata       0.15.2                   pypi_0    pypi\n",
      "termcolor                 1.1.0                    pypi_0    pypi\n",
      "terminado                 0.8.3                    py36_0  \n",
      "testpath                  0.4.4                      py_0  \n",
      "tk                        8.6.8                hfa6e2cd_0  \n",
      "toolz                     0.10.0                     py_0  \n",
      "tornado                   6.0.3            py36he774522_0  \n",
      "tqdm                      4.41.1                     py_0  \n",
      "traitlets                 4.3.3                    py36_0  \n",
      "typed-ast                 1.4.0            py36he774522_0  \n",
      "ujson                     1.35             py36hfa6e2cd_0  \n",
      "unicodecsv                0.14.1           py36h6450c06_0  \n",
      "urllib3                   1.25.7                   py36_0  \n",
      "vc                        14.1                 h0510ff6_4  \n",
      "vs2015_runtime            14.16.27012          hf0eaf9b_1  \n",
      "watchdog                  0.9.0                    py36_1  \n",
      "wcwidth                   0.1.7                    py36_0  \n",
      "webencodings              0.5.1                    py36_1  \n",
      "werkzeug                  0.16.0                     py_0  \n",
      "wheel                     0.33.6                   py36_0  \n",
      "widgetsnbextension        3.5.1                    py36_0  \n",
      "win_inet_pton             1.1.0                    py36_0  \n",
      "win_unicode_console       0.5              py36hcdbd4b5_0  \n",
      "wincertstore              0.2              py36h7fe50ca_0  \n",
      "winpty                    0.4.3                         4  \n",
      "wrapt                     1.11.2           py36he774522_0  \n",
      "xgboost                   0.90                     pypi_0    pypi\n",
      "xlrd                      1.2.0                    py36_0  \n",
      "xlsxwriter                1.2.7                      py_0  \n",
      "xlwings                   0.17.0                   py36_0  \n",
      "xlwt                      1.3.0            py36h1a4751e_0  \n",
      "xz                        5.2.4                h2fa13f4_4  \n",
      "yaml                      0.1.7                hc54c509_2  \n",
      "yapf                      0.28.0                     py_0  \n",
      "zeromq                    4.3.1                h33f27b4_3  \n",
      "zict                      1.0.0                      py_0  \n",
      "zipp                      0.6.0                      py_0  \n",
      "zlib                      1.2.11               h62dcd97_3  \n",
      "zstd                      1.3.7                h508b16e_0  \n"
     ]
    }
   ],
   "source": [
    "! conda list"
   ]
  },
  {
   "cell_type": "markdown",
   "metadata": {
    "slideshow": {
     "slide_type": "slide"
    }
   },
   "source": [
    "# GitHub\n",
    "- 버전 관리 (version control) 프로그램\n",
    "- open source 코드들이 존재\n",
    "- git clone "
   ]
  },
  {
   "cell_type": "markdown",
   "metadata": {
    "slideshow": {
     "slide_type": "slide"
    }
   },
   "source": [
    "# References\n",
    "- Hilpisch, Python for Finance\n",
    "- Hilpisch, Derivatives Analytics with Python"
   ]
  }
 ],
 "metadata": {
  "celltoolbar": "Slideshow",
  "kernelspec": {
   "display_name": "Python 3",
   "language": "python",
   "name": "python3"
  },
  "language_info": {
   "codemirror_mode": {
    "name": "ipython",
    "version": 3
   },
   "file_extension": ".py",
   "mimetype": "text/x-python",
   "name": "python",
   "nbconvert_exporter": "python",
   "pygments_lexer": "ipython3",
   "version": "3.6.9"
  },
  "toc": {
   "base_numbering": 1,
   "nav_menu": {},
   "number_sections": true,
   "sideBar": true,
   "skip_h1_title": false,
   "title_cell": "Table of Contents",
   "title_sidebar": "Contents",
   "toc_cell": true,
   "toc_position": {
    "height": "calc(100% - 180px)",
    "left": "10px",
    "top": "150px",
    "width": "360px"
   },
   "toc_section_display": true,
   "toc_window_display": true
  }
 },
 "nbformat": 4,
 "nbformat_minor": 4
}
