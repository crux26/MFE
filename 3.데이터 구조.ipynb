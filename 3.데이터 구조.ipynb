{
 "cells": [
  {
   "cell_type": "markdown",
   "metadata": {
    "slideshow": {
     "slide_type": "skip"
    },
    "toc": true
   },
   "source": [
    "<h1>Table of Contents<span class=\"tocSkip\"></span></h1>\n",
    "<div class=\"toc\"><ul class=\"toc-item\"><li><span><a href=\"#Data-structures\" data-toc-modified-id=\"Data-structures-1\"><span class=\"toc-item-num\">1&nbsp;&nbsp;</span>Data structures</a></span><ul class=\"toc-item\"><li><span><a href=\"#list\" data-toc-modified-id=\"list-1.1\"><span class=\"toc-item-num\">1.1&nbsp;&nbsp;</span>list</a></span><ul class=\"toc-item\"><li><ul class=\"toc-item\"><li><span><a href=\"#range-함수\" data-toc-modified-id=\"range-함수-1.1.0.1\"><span class=\"toc-item-num\">1.1.0.1&nbsp;&nbsp;</span>range 함수</a></span></li><li><span><a href=\"#Slicing\" data-toc-modified-id=\"Slicing-1.1.0.2\"><span class=\"toc-item-num\">1.1.0.2&nbsp;&nbsp;</span>Slicing</a></span></li></ul></li></ul></li><li><span><a href=\"#tuple\" data-toc-modified-id=\"tuple-1.2\"><span class=\"toc-item-num\">1.2&nbsp;&nbsp;</span>tuple</a></span><ul class=\"toc-item\"><li><span><a href=\"#Copy-revisited\" data-toc-modified-id=\"Copy-revisited-1.2.1\"><span class=\"toc-item-num\">1.2.1&nbsp;&nbsp;</span>Copy revisited</a></span><ul class=\"toc-item\"><li><span><a href=\"#Shallow-copy-(default)\" data-toc-modified-id=\"Shallow-copy-(default)-1.2.1.1\"><span class=\"toc-item-num\">1.2.1.1&nbsp;&nbsp;</span>Shallow copy (default)</a></span></li><li><span><a href=\"#Deep-copy\" data-toc-modified-id=\"Deep-copy-1.2.1.2\"><span class=\"toc-item-num\">1.2.1.2&nbsp;&nbsp;</span>Deep copy</a></span></li></ul></li></ul></li><li><span><a href=\"#변수-할당\" data-toc-modified-id=\"변수-할당-1.3\"><span class=\"toc-item-num\">1.3&nbsp;&nbsp;</span>변수 할당</a></span></li><li><span><a href=\"#dictionary\" data-toc-modified-id=\"dictionary-1.4\"><span class=\"toc-item-num\">1.4&nbsp;&nbsp;</span>dictionary</a></span></li></ul></li></ul></div>"
   ]
  },
  {
   "cell_type": "markdown",
   "metadata": {
    "slideshow": {
     "slide_type": "slide"
    }
   },
   "source": [
    "## Data structures"
   ]
  },
  {
   "cell_type": "markdown",
   "metadata": {
    "slideshow": {
     "slide_type": "fragment"
    }
   },
   "source": [
    "### list\n",
    "- 순서를 갖는 자료들의 집합\n",
    "- 파이썬 자료형들 중에서 가장 유용하게 활용됨\n",
    "- []로 포현함"
   ]
  },
  {
   "cell_type": "code",
   "execution_count": 1,
   "metadata": {
    "slideshow": {
     "slide_type": "fragment"
    }
   },
   "outputs": [],
   "source": [
    "a = [100, 200]\n",
    "b = [1, 2, 'hello']\n",
    "c = [1, 2, [100, 200]]"
   ]
  },
  {
   "cell_type": "markdown",
   "metadata": {
    "slideshow": {
     "slide_type": "subslide"
    }
   },
   "source": [
    "- list는 특정 항목만을 호출하거나 조작하는 게 가능\n",
    "- a[0]: list *a*의 첫 번째 항목\n",
    "- a[n-1]: list *a*의 n 번째 항목\n",
    "- a[-n]: list *a*의 오른쪽에서 n 번째 항목"
   ]
  },
  {
   "cell_type": "code",
   "execution_count": 2,
   "metadata": {
    "slideshow": {
     "slide_type": "fragment"
    }
   },
   "outputs": [
    {
     "name": "stdout",
     "output_type": "stream",
     "text": [
      "100\n",
      "200\n",
      "200\n"
     ]
    }
   ],
   "source": [
    "# example)\n",
    "print(a[0])\n",
    "print(a[1])\n",
    "print(a[-1])"
   ]
  },
  {
   "cell_type": "code",
   "execution_count": 3,
   "metadata": {
    "slideshow": {
     "slide_type": "subslide"
    }
   },
   "outputs": [
    {
     "name": "stdout",
     "output_type": "stream",
     "text": [
      "[1, 2, 3, 4]\n",
      "[0, 0, 0]\n"
     ]
    }
   ],
   "source": [
    "a = [1, 2] + [3, 4]\n",
    "b = [0] * 3\n",
    "print(a)\n",
    "print(b)"
   ]
  },
  {
   "cell_type": "markdown",
   "metadata": {
    "slideshow": {
     "slide_type": "subslide"
    }
   },
   "source": [
    "##### range 함수\n",
    "- range 함수를 이용해 순차적인 정수 리스트를 만들 수 있음\n",
    "- range(n): 0부터 n-1까지\n",
    "- range(m, n): m부터 n-1까지 (n-1-m 개)의 정수\n",
    "- range(m, n, step)은 m부터 n-1까지의 정수를 step 간격으로\n",
    "- range 함수를 이용해 리스트를 만들기 위해서는 list 함수와 함께 사용해야 함"
   ]
  },
  {
   "cell_type": "code",
   "execution_count": 4,
   "metadata": {
    "slideshow": {
     "slide_type": "fragment"
    }
   },
   "outputs": [
    {
     "name": "stdout",
     "output_type": "stream",
     "text": [
      "[0, 1, 2, 3, 4, 5, 6, 7, 8, 9, 10, 11, 12, 13, 14]\n",
      "[5, 6, 7, 8, 9, 10, 11, 12, 13, 14]\n",
      "[5, 7, 9, 11, 13]\n",
      "[15, 13, 11, 9, 7]\n"
     ]
    }
   ],
   "source": [
    "# examples)\n",
    "print(list(range(15)))\n",
    "print(list(range(5, 15)))\n",
    "print(list(range(5, 15, 2)))\n",
    "print(list(range(15, 5, -2)))"
   ]
  },
  {
   "cell_type": "markdown",
   "metadata": {
    "slideshow": {
     "slide_type": "subslide"
    }
   },
   "source": [
    "##### Slicing\n",
    "- 콜론(:) 을 이용하여 리스트의 특정 영역을 선택할 수 있음\n",
    "- a[m:n]: 리스트의 m+1번째 항목부터 n번째 항목까지를 의미\n",
    "- a[m:n:step]: 리스트의 m+1번째 항목부터 n번째 항목까지, step의 간격으로\n",
    "- m, n, step은 따로 명시하지 않을 경우 각각 0, len(a), 1의 값을 default로 가짐\n",
    "- step이 음수일 경우, 마지막 자료에서 처음 자료의 방향으로 자료를 반환"
   ]
  },
  {
   "cell_type": "code",
   "execution_count": 5,
   "metadata": {
    "slideshow": {
     "slide_type": "fragment"
    }
   },
   "outputs": [
    {
     "name": "stdout",
     "output_type": "stream",
     "text": [
      "[2, 3, 4, 5, 6, 7]\n",
      "[2, 3, 4, 5, 6, 7, 8, 9, 10, 11, 12, 13, 14]\n",
      "[0, 1, 2, 3, 4, 5, 6, 7]\n",
      "[2, 4, 6]\n",
      "[20, 30, 3, 4, 5, 6, 7, 8, 9, 10, 11, 12, 13, 14]\n",
      "[3, 4, 5, 6, 7, 8, 9, 10, 11, 12, 13, 14]\n",
      "[5, 6, 7, 8, 9, 10, 11, 12, 13, 14]\n",
      "[5, 6, 7, 8, 9, 20, 30, 10, 11, 12, 13, 14]\n"
     ]
    }
   ],
   "source": [
    "# example)\n",
    "a = list(range(15))\n",
    "print(a[2:8])\n",
    "print(a[2:])\n",
    "print(a[:8])\n",
    "print(a[2:8:2])\n",
    "\n",
    "a[0:3] = [20, 30] # 항목 교체. 크기가 달라도 됨\n",
    "print(a)\n",
    "\n",
    "a[0:2] = [] # 삭제\n",
    "print(a)\n",
    "\n",
    "del a[0:2] # 삭제\n",
    "print(a)\n",
    "\n",
    "# a[5:5] = 20 # 항목 삽입 불가\n",
    "# print(a)\n",
    "\n",
    "a[5:5] = [20, 30] # 항목 삽입\n",
    "print(a)"
   ]
  },
  {
   "cell_type": "markdown",
   "metadata": {
    "slideshow": {
     "slide_type": "subslide"
    }
   },
   "source": [
    "Q) Slicing을 이용해 다음의 값을 구하려면 어떻게 해야 하는가?\n",
    "- a = list(range(20))\n",
    "\n",
    "\n",
    "1. [5, 6, 7, 8, 9, 10, 11, 12, 13, 14]\n",
    "2. [3, 5, 7, 9, 11, 13, 15, 17]\n",
    "3. [5, 8, 11, 14, 17]\n",
    "4. [7, 9, 11, 13, 15, 17, 19]\n",
    "5. [0, 2, 4, 6, 8, 10, 12, 14]\n",
    "6. [13, 12, 11, 10, 9, 8]\n",
    "7. [17, 15, 13, 11, 9, 7, 5]\n",
    "8. [19, 16, 13, 10, 7, 4, 1]"
   ]
  },
  {
   "cell_type": "markdown",
   "metadata": {
    "slideshow": {
     "slide_type": "subslide"
    }
   },
   "source": [
    "Q) 다음의 예제와 같은 결과를 얻기 위한 m, n, step의 값은?\n",
    "\n",
    "1. a[::-1]\n",
    "2. a[:5]\n",
    "3. a[0:]\n",
    "4. a[:-1]"
   ]
  },
  {
   "cell_type": "markdown",
   "metadata": {
    "slideshow": {
     "slide_type": "subslide"
    }
   },
   "source": [
    "- 이 외에 다양한 함수를 이용하여 리스트를 다룰 수 있음\n",
    "\n",
    "|    함수       |    설명                                            |\n",
    "|---------------|----------------------------------------------------|\n",
    "|    append     |    자료를 리스트 끝에 추가                         |\n",
    "|    pop        |    리스트 끝의 자료를 반환 및 리스트로부터 삭제    |\n",
    "|    extend     |    리스트를 추가                                   |\n",
    "|    insert     |    자료를 지정된 위치에 삽입                       |\n",
    "|    index      |    요소 검색                                       |\n",
    "|    count      |    요소 개수 알아내기                              |\n",
    "|    sort       |    리스트 정렬                                     |\n",
    "|    reverse    |    자료 순서 바꾸기 (sort와 무관)                  |"
   ]
  },
  {
   "cell_type": "code",
   "execution_count": 6,
   "metadata": {
    "slideshow": {
     "slide_type": "fragment"
    }
   },
   "outputs": [],
   "source": [
    "# example)\n",
    "a = [2, 5, 3, 6, 1]\n",
    "a.append(7) # 리스트의 끝에 7을 추가\n",
    "a.pop(2) # 2번째 자료를 반환 후 리스트로부터 삭제\n",
    "a.insert(3, 4) # 3번째 자리에 4를 삽입\n",
    "a.index(4) # 4의 값이 있는 위치를 반환\n",
    "a.count(7) # a에 포함된 7의 개수\n",
    "a.reverse() # a의 역순\n",
    "a.sort() # ascending sort\n",
    "a.sort(reverse=True) # descending sort"
   ]
  },
  {
   "cell_type": "markdown",
   "metadata": {
    "slideshow": {
     "slide_type": "slide"
    }
   },
   "source": [
    "### tuple\n",
    "- 순서를 가지는 자료들의 집합\n",
    "- 원소를 변경하거나 추가할 수 없음\n",
    "- Create with ()\n",
    "    - empty_tuple = ()\n",
    "    - one-element tuple: 값 뒤에 comma(,) 필요\n",
    "        - _tuple = 'abc',\n",
    "\n",
    "\n",
    "- list와 흡사하나, 사용 가능한 함수가 더 적음\n",
    "- 일반적으로는 tuple보다 list를 더 많이 사용"
   ]
  },
  {
   "cell_type": "code",
   "execution_count": 7,
   "metadata": {
    "slideshow": {
     "slide_type": "fragment"
    }
   },
   "outputs": [
    {
     "name": "stdout",
     "output_type": "stream",
     "text": [
      "1\n"
     ]
    }
   ],
   "source": [
    "t = (1, 2, 3)\n",
    "print(t[0])\n",
    "# t[0] = 10"
   ]
  },
  {
   "cell_type": "markdown",
   "metadata": {
    "slideshow": {
     "slide_type": "subslide"
    }
   },
   "source": [
    "#### Copy revisited\n",
    "- \"==\" vs \"is\"\n",
    "\n",
    "##### Shallow copy (default)\n",
    "##### Deep copy"
   ]
  },
  {
   "cell_type": "code",
   "execution_count": 8,
   "metadata": {
    "slideshow": {
     "slide_type": "fragment"
    }
   },
   "outputs": [
    {
     "name": "stdout",
     "output_type": "stream",
     "text": [
      "[10, 2, 3, 4] [10, 2, 3, 4]\n"
     ]
    }
   ],
   "source": [
    "a = [1,2,3,4]\n",
    "b = a\n",
    "b[0] = 10\n",
    "print(a, b)"
   ]
  },
  {
   "cell_type": "code",
   "execution_count": 9,
   "metadata": {
    "slideshow": {
     "slide_type": "fragment"
    }
   },
   "outputs": [
    {
     "name": "stdout",
     "output_type": "stream",
     "text": [
      "[1, 2, 3, 4] [10, 2, 3, 4]\n"
     ]
    }
   ],
   "source": [
    "a = [1,2,3,4]\n",
    "b = a.copy()\n",
    "b[0] = 10\n",
    "print(a,b)"
   ]
  },
  {
   "cell_type": "code",
   "execution_count": 10,
   "metadata": {
    "slideshow": {
     "slide_type": "subslide"
    }
   },
   "outputs": [
    {
     "name": "stdout",
     "output_type": "stream",
     "text": [
      "['_str', 2, 3]\n",
      "[1, 2, 3]\n",
      "[1, 2, 3]\n",
      "[1, 2, 3]\n",
      "[1, 2, 3]\n",
      "0x27c4b6897c8\n",
      "0x27c4b689808\n",
      "0x27c4b689988\n",
      "0x27c4b659508\n",
      "0x27c4b642388\n"
     ]
    }
   ],
   "source": [
    "# shallow copy\n",
    "import copy\n",
    "a = [1,2,3]\n",
    "b = a.copy() \n",
    "c = list(a)\n",
    "d = a[:]\n",
    "e = copy.copy(a) # equivalent to b\n",
    "\n",
    "a[0] = '_str'\n",
    "print(a)\n",
    "print(b)\n",
    "print(c)\n",
    "print(d)\n",
    "print(e)\n",
    "\n",
    "print(hex(id(a)))\n",
    "print(hex(id(b)))\n",
    "print(hex(id(c)))\n",
    "print(hex(id(d)))\n",
    "print(hex(id(e)))"
   ]
  },
  {
   "cell_type": "markdown",
   "metadata": {
    "slideshow": {
     "slide_type": "fragment"
    }
   },
   "source": [
    "- *b, c, d* are (shallow) *copies* of *a*\n",
    "    - new objects with their own values\n",
    "    - no connection to list object [1,2,3] to which *a* refers\n",
    "    \n",
    "- *a*의 값을 바꾸는 게 *a*의 copy인 *b, c, d*에 영향을 주지 않음"
   ]
  },
  {
   "cell_type": "code",
   "execution_count": 11,
   "metadata": {
    "slideshow": {
     "slide_type": "subslide"
    }
   },
   "outputs": [
    {
     "name": "stdout",
     "output_type": "stream",
     "text": [
      "[[10, 2], [3, 4]]\n",
      "[[10, 2], [3, 4]]\n"
     ]
    }
   ],
   "source": [
    "# list of list\n",
    "import copy\n",
    "a = [[1,2], [3,4]]\n",
    "b = copy.copy(a) # equiv. to a.copy()\n",
    "b[0][0] = 10\n",
    "print(b)\n",
    "print(a)"
   ]
  },
  {
   "cell_type": "code",
   "execution_count": 12,
   "metadata": {
    "slideshow": {
     "slide_type": "subslide"
    }
   },
   "outputs": [
    {
     "name": "stdout",
     "output_type": "stream",
     "text": [
      "[[2, 3], [3, 4]]\n",
      "[[1, 2], [3, 4]]\n"
     ]
    }
   ],
   "source": [
    "# list of list 2\n",
    "import copy\n",
    "a = [[1,2], [3,4]]\n",
    "b = copy.copy(a) # equiv. to a.copy()\n",
    "b[0] = [2, 3]\n",
    "print(b)\n",
    "print(a)"
   ]
  },
  {
   "cell_type": "code",
   "execution_count": 13,
   "metadata": {
    "slideshow": {
     "slide_type": "subslide"
    }
   },
   "outputs": [
    {
     "name": "stdout",
     "output_type": "stream",
     "text": [
      "[[2], [3, 4]]\n",
      "[[1, 2], [3, 4]]\n"
     ]
    }
   ],
   "source": [
    "# list of list 3\n",
    "import copy\n",
    "a = [[1,2], [3,4]]\n",
    "b = copy.copy(a) # equiv. to a.copy()\n",
    "b[0] = [2]\n",
    "print(b)\n",
    "print(a)"
   ]
  },
  {
   "cell_type": "code",
   "execution_count": 14,
   "metadata": {
    "slideshow": {
     "slide_type": "subslide"
    }
   },
   "outputs": [
    {
     "name": "stdout",
     "output_type": "stream",
     "text": [
      "[[10, 2], [3, 4]]\n",
      "[[1, 2], [3, 4]]\n"
     ]
    }
   ],
   "source": [
    "# deep copy\n",
    "a = [[1,2], [3,4]]\n",
    "b = copy.deepcopy(a)\n",
    "b[0][0] = 10\n",
    "print(b)\n",
    "print(a)"
   ]
  },
  {
   "cell_type": "markdown",
   "metadata": {
    "slideshow": {
     "slide_type": "fragment"
    }
   },
   "source": [
    "- 위와 같은 일은 mutable 안에 mutable이 포함되어 있을 때 발생\n",
    "- mutable: list, set, dict\n",
    "- immutable: int, float, tuple, str"
   ]
  },
  {
   "cell_type": "code",
   "execution_count": 15,
   "metadata": {
    "slideshow": {
     "slide_type": "subslide"
    }
   },
   "outputs": [
    {
     "name": "stdout",
     "output_type": "stream",
     "text": [
      "[(2, 3), (3, 4)]\n",
      "[(1, 2), (3, 4)]\n"
     ]
    }
   ],
   "source": [
    "a = [(1,2), (3,4)]\n",
    "b = a.copy()\n",
    "# b[0][0] = 1 # tuple object is immutable\n",
    "b[0] = (2, 3)\n",
    "print(b)\n",
    "print(a)"
   ]
  },
  {
   "cell_type": "code",
   "execution_count": 16,
   "metadata": {
    "slideshow": {
     "slide_type": "subslide"
    }
   },
   "outputs": [
    {
     "ename": "AttributeError",
     "evalue": "'tuple' object has no attribute 'copy'",
     "output_type": "error",
     "traceback": [
      "\u001b[1;31m---------------------------------------------------------------------------\u001b[0m",
      "\u001b[1;31mAttributeError\u001b[0m                            Traceback (most recent call last)",
      "\u001b[1;32m<ipython-input-16-71182dcda1ff>\u001b[0m in \u001b[0;36m<module>\u001b[1;34m\u001b[0m\n\u001b[0;32m      1\u001b[0m \u001b[1;31m# tuple은 immutable로 copy()를 지원하지 않아 error가 생김\u001b[0m\u001b[1;33m\u001b[0m\u001b[1;33m\u001b[0m\u001b[1;33m\u001b[0m\u001b[0m\n\u001b[0;32m      2\u001b[0m \u001b[0ma\u001b[0m \u001b[1;33m=\u001b[0m \u001b[1;33m(\u001b[0m\u001b[1;33m[\u001b[0m\u001b[1;36m1\u001b[0m\u001b[1;33m,\u001b[0m\u001b[1;36m2\u001b[0m\u001b[1;33m]\u001b[0m\u001b[1;33m,\u001b[0m \u001b[1;33m[\u001b[0m\u001b[1;36m3\u001b[0m\u001b[1;33m,\u001b[0m\u001b[1;36m4\u001b[0m\u001b[1;33m]\u001b[0m\u001b[1;33m)\u001b[0m\u001b[1;33m\u001b[0m\u001b[1;33m\u001b[0m\u001b[0m\n\u001b[1;32m----> 3\u001b[1;33m \u001b[0mb\u001b[0m \u001b[1;33m=\u001b[0m \u001b[0ma\u001b[0m\u001b[1;33m.\u001b[0m\u001b[0mcopy\u001b[0m\u001b[1;33m(\u001b[0m\u001b[1;33m)\u001b[0m \u001b[1;31m# tuple does not support copy()\u001b[0m\u001b[1;33m\u001b[0m\u001b[1;33m\u001b[0m\u001b[0m\n\u001b[0m\u001b[0;32m      4\u001b[0m \u001b[0mb\u001b[0m\u001b[1;33m[\u001b[0m\u001b[1;36m0\u001b[0m\u001b[1;33m]\u001b[0m \u001b[1;33m=\u001b[0m \u001b[1;33m[\u001b[0m\u001b[1;36m2\u001b[0m\u001b[1;33m,\u001b[0m\u001b[1;36m3\u001b[0m\u001b[1;33m]\u001b[0m\u001b[1;33m\u001b[0m\u001b[1;33m\u001b[0m\u001b[0m\n\u001b[0;32m      5\u001b[0m \u001b[0mprint\u001b[0m\u001b[1;33m(\u001b[0m\u001b[0mb\u001b[0m\u001b[1;33m)\u001b[0m\u001b[1;33m\u001b[0m\u001b[1;33m\u001b[0m\u001b[0m\n",
      "\u001b[1;31mAttributeError\u001b[0m: 'tuple' object has no attribute 'copy'"
     ]
    }
   ],
   "source": [
    "# tuple은 immutable로 copy()를 지원하지 않아 error가 생김\n",
    "a = ([1,2], [3,4])\n",
    "b = a.copy() # tuple does not support copy()\n",
    "b[0] = [2,3]\n",
    "print(b)\n",
    "print(a)"
   ]
  },
  {
   "cell_type": "markdown",
   "metadata": {
    "slideshow": {
     "slide_type": "slide"
    }
   },
   "source": [
    "### 변수 할당"
   ]
  },
  {
   "cell_type": "code",
   "execution_count": 17,
   "metadata": {
    "slideshow": {
     "slide_type": "fragment"
    }
   },
   "outputs": [
    {
     "name": "stdout",
     "output_type": "stream",
     "text": [
      "3 3\n",
      "a b c\n",
      "<class 'int'> <class 'int'>\n",
      "<class 'int'> <class 'int'>\n",
      "s ['p', 'a', 'm']\n"
     ]
    }
   ],
   "source": [
    "d = e = 3                      # multiple-target assignment\n",
    "print(d,e)\n",
    "\n",
    "a, b, c = 'abc'                # sequence assignment\n",
    "print(a,b,c)\n",
    "    \n",
    "_d, _e = d, e                  # tuple assignment\n",
    "print(type(_d), type(_e))\n",
    "\n",
    "[_d, _e] = [d, e]              # list assignment\n",
    "print(type(_d), type(_e))\n",
    "\n",
    "a, *b = 'spam'                 # Extended sequence unpacking (Python 3.x)\n",
    "print(a, b)\n",
    "\n",
    "spam = 26\n",
    "spam += 42                     # augmented assignment. equivalent to spam = spam + 42"
   ]
  },
  {
   "cell_type": "code",
   "execution_count": 18,
   "metadata": {
    "slideshow": {
     "slide_type": "fragment"
    }
   },
   "outputs": [
    {
     "name": "stdout",
     "output_type": "stream",
     "text": [
      "True\n",
      "23.7\n",
      "23.7\n",
      "False\n"
     ]
    }
   ],
   "source": [
    "# Convert data types\n",
    "a = 23.7\n",
    "b = 23.7\n",
    "print(a == b)\n",
    "\n",
    "print(b)\n",
    "print(str(b))\n",
    "print(a == str(b))"
   ]
  },
  {
   "cell_type": "markdown",
   "metadata": {
    "slideshow": {
     "slide_type": "slide"
    }
   },
   "source": [
    "### dictionary\n",
    "- 딕셔너리(dictionary)는 키(key)와 값(value)의 쌍으로 이루어진 자료구조로, 순서를 가지지 않음\n",
    "\n",
    "\n",
    "- Create with {}\n",
    "    - empty_dict = {}\n",
    "    - _dict = {'name1': 'Andy', 'value1': 1}\n",
    "\n",
    "- create with dict()\n",
    "    - dict(x=1, y=2)\n",
    "\n",
    "- convert with dict()\n",
    "    - lol = [ ['a', 'b'], ['c', 'd'] ]\n",
    "    - _dict1 = dict(lol)\n",
    "    \n",
    "    - lot = [ ('a', 'b'), ('c', 'd') ]\n",
    "    - _dict2 = dict(lot)\n",
    "    \n",
    "    - tol = ( ['a', 'b'], ['c', 'd'] )\n",
    "    - _dict3 = dict(tol)\n",
    "    \n",
    "    - tot = ( ('a', 'b'), ('c', 'd') )\n",
    "    - _dict4 = dict(tot)\n",
    "    \n",
    "    - los = ['ab', 'cd', 'ef']\n",
    "    - _dict5 = dict(los)\n",
    "    \n",
    "    - tos = ('ab',  'cd', 'ef')\n",
    "    - _dict6 = dict(tos)"
   ]
  },
  {
   "cell_type": "code",
   "execution_count": 19,
   "metadata": {
    "slideshow": {
     "slide_type": "fragment"
    }
   },
   "outputs": [
    {
     "name": "stdout",
     "output_type": "stream",
     "text": [
      "{'name1': 'Andy', 'value1': 1}\n",
      "{'x': 1, 'y': 2}\n",
      "{'a': 'b', 'c': 'd'}\n",
      "{'a': 'b', 'c': 'd', 'e': 'f'}\n"
     ]
    }
   ],
   "source": [
    "print({'name1':'Andy', 'value1': 1})\n",
    "print(dict(x=1, y=2))\n",
    "print(dict([ ['a', 'b'], ['c', 'd'] ]))\n",
    "print(dict(['ab', 'cd', 'ef']))"
   ]
  },
  {
   "cell_type": "code",
   "execution_count": 20,
   "metadata": {
    "slideshow": {
     "slide_type": "fragment"
    }
   },
   "outputs": [
    {
     "name": "stdout",
     "output_type": "stream",
     "text": [
      "{'A': 1, 'B': 3, 'C': '32', 'name': 'ABC'}\n",
      "1\n"
     ]
    }
   ],
   "source": [
    "_dict = dict(A=1, B=3, C='32', name='ABC')\n",
    "print(_dict)\n",
    "print(_dict['A'])"
   ]
  },
  {
   "cell_type": "code",
   "execution_count": 21,
   "metadata": {
    "slideshow": {
     "slide_type": "fragment"
    }
   },
   "outputs": [
    {
     "name": "stdout",
     "output_type": "stream",
     "text": [
      "dict_keys(['A', 'B', 'C', 'name'])\n",
      "dict_values([1, 3, '32', 'ABC'])\n",
      "['A', 'B', 'C', 'name']\n",
      "[1, 3, '32', 'ABC']\n",
      "dict_items([('A', 1), ('B', 3), ('C', '32'), ('name', 'ABC')])\n",
      "[('A', 1), ('B', 3), ('C', '32'), ('name', 'ABC')]\n",
      "True\n"
     ]
    }
   ],
   "source": [
    "print(_dict.keys()) # dict_keys object를 반환\n",
    "print(_dict.values()) #dict_values object를 반환\n",
    "\n",
    "print(list(_dict.keys()))\n",
    "print(list(_dict.values()))\n",
    "\n",
    "print(_dict.items()) # (key,value)를 pair로 반환 (dict_items object)\n",
    "print(list(_dict.items()))\n",
    "\n",
    "print('C' in _dict) # 'C'라는 key가 _dict에 포함되었는지 확인"
   ]
  },
  {
   "cell_type": "markdown",
   "metadata": {
    "slideshow": {
     "slide_type": "subslide"
    }
   },
   "source": [
    "Dictionary의 key로는 immutable만 사용 가능하며, mutable은 사용할 수 없다.\n",
    "- a = {1: ‘a’, 2: ‘b’} \t# int(immutable): key로 사용가능\n",
    "- a = {(1,2): ‘a’, (3,4): ‘b’} \t# tuple(immutable): key로 사용가능\n",
    "- a = {[1,2]: ‘a’, [3,4]: ‘b’} \t# list(mutable): key로 사용 불가능\n",
    "\n",
    "- a = {'a': 1, 'a': 2}\t# key가 중복되면 마지막 1개만 남음\n",
    "- a = dict(x=3, y=2)\t\t# 다른 방식으로 dictionary를 정의 가능\n"
   ]
  }
 ],
 "metadata": {
  "celltoolbar": "Slideshow",
  "kernelspec": {
   "display_name": "Python 3",
   "language": "python",
   "name": "python3"
  },
  "language_info": {
   "codemirror_mode": {
    "name": "ipython",
    "version": 3
   },
   "file_extension": ".py",
   "mimetype": "text/x-python",
   "name": "python",
   "nbconvert_exporter": "python",
   "pygments_lexer": "ipython3",
   "version": "3.7.7"
  },
  "toc": {
   "base_numbering": 1,
   "nav_menu": {},
   "number_sections": true,
   "sideBar": true,
   "skip_h1_title": false,
   "title_cell": "Table of Contents",
   "title_sidebar": "Contents",
   "toc_cell": true,
   "toc_position": {
    "height": "calc(100% - 180px)",
    "left": "10px",
    "top": "150px",
    "width": "165px"
   },
   "toc_section_display": true,
   "toc_window_display": false
  }
 },
 "nbformat": 4,
 "nbformat_minor": 2
}
