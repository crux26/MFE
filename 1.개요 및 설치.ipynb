{
 "cells": [
  {
   "cell_type": "markdown",
   "metadata": {
    "slideshow": {
     "slide_type": "skip"
    },
    "toc": true
   },
   "source": [
    "<h1>Table of Contents<span class=\"tocSkip\"></span></h1>\n",
    "<div class=\"toc\"><ul class=\"toc-item\"><li><span><a href=\"#프로그램이란?\" data-toc-modified-id=\"프로그램이란?-1\"><span class=\"toc-item-num\">1&nbsp;&nbsp;</span>프로그램이란?</a></span></li><li><span><a href=\"#프로그래밍-언어\" data-toc-modified-id=\"프로그래밍-언어-2\"><span class=\"toc-item-num\">2&nbsp;&nbsp;</span>프로그래밍 언어</a></span><ul class=\"toc-item\"><li><span><a href=\"#범용-언어-(general-purpose-language)\" data-toc-modified-id=\"범용-언어-(general-purpose-language)-2.1\"><span class=\"toc-item-num\">2.1&nbsp;&nbsp;</span>범용 언어 (general purpose language)</a></span></li><li><span><a href=\"#도메인-특화-언어-(domain-specific-language)\" data-toc-modified-id=\"도메인-특화-언어-(domain-specific-language)-2.2\"><span class=\"toc-item-num\">2.2&nbsp;&nbsp;</span>도메인 특화 언어 (domain-specific language)</a></span><ul class=\"toc-item\"><li><span><a href=\"#Query-language\" data-toc-modified-id=\"Query-language-2.2.1\"><span class=\"toc-item-num\">2.2.1&nbsp;&nbsp;</span>Query language</a></span></li></ul></li><li><span><a href=\"#Why-Python?\" data-toc-modified-id=\"Why-Python?-2.3\"><span class=\"toc-item-num\">2.3&nbsp;&nbsp;</span>Why Python?</a></span><ul class=\"toc-item\"><li><span><a href=\"#쉽고-통일된-문법\" data-toc-modified-id=\"쉽고-통일된-문법-2.3.1\"><span class=\"toc-item-num\">2.3.1&nbsp;&nbsp;</span>쉽고 통일된 문법</a></span></li><li><span><a href=\"#생산성\" data-toc-modified-id=\"생산성-2.3.2\"><span class=\"toc-item-num\">2.3.2&nbsp;&nbsp;</span>생산성</a></span></li><li><span><a href=\"#active-communities\" data-toc-modified-id=\"active-communities-2.3.3\"><span class=\"toc-item-num\">2.3.3&nbsp;&nbsp;</span>active communities</a></span></li><li><span><a href=\"#useful-libraries\" data-toc-modified-id=\"useful-libraries-2.3.4\"><span class=\"toc-item-num\">2.3.4&nbsp;&nbsp;</span>useful libraries</a></span></li></ul></li></ul></li><li><span><a href=\"#참고)-Python-version-dependency\" data-toc-modified-id=\"참고)-Python-version-dependency-3\"><span class=\"toc-item-num\">3&nbsp;&nbsp;</span>참고) Python version dependency</a></span><ul class=\"toc-item\"><li><span><a href=\"#Some-libraries-depend-on-python-version\" data-toc-modified-id=\"Some-libraries-depend-on-python-version-3.1\"><span class=\"toc-item-num\">3.1&nbsp;&nbsp;</span>Some libraries depend on python version</a></span></li><li><span><a href=\"#virtual-environment\" data-toc-modified-id=\"virtual-environment-3.2\"><span class=\"toc-item-num\">3.2&nbsp;&nbsp;</span>virtual environment</a></span><ul class=\"toc-item\"><li><span><a href=\"#Create-a-virtual-environment\" data-toc-modified-id=\"Create-a-virtual-environment-3.2.1\"><span class=\"toc-item-num\">3.2.1&nbsp;&nbsp;</span>Create a virtual environment</a></span></li><li><span><a href=\"#Activate-a-virtual-environment\" data-toc-modified-id=\"Activate-a-virtual-environment-3.2.2\"><span class=\"toc-item-num\">3.2.2&nbsp;&nbsp;</span>Activate a virtual environment</a></span></li><li><span><a href=\"#Install-packages\" data-toc-modified-id=\"Install-packages-3.2.3\"><span class=\"toc-item-num\">3.2.3&nbsp;&nbsp;</span>Install packages</a></span></li><li><span><a href=\"#deactivate-a-virtual-environment\" data-toc-modified-id=\"deactivate-a-virtual-environment-3.2.4\"><span class=\"toc-item-num\">3.2.4&nbsp;&nbsp;</span>deactivate a virtual environment</a></span></li><li><span><a href=\"#Delete-a-virtual-environment\" data-toc-modified-id=\"Delete-a-virtual-environment-3.2.5\"><span class=\"toc-item-num\">3.2.5&nbsp;&nbsp;</span>Delete a virtual environment</a></span></li></ul></li></ul></li><li><span><a href=\"#IDE-(Integrated-Development-Environment,-통합개발환경)\" data-toc-modified-id=\"IDE-(Integrated-Development-Environment,-통합개발환경)-4\"><span class=\"toc-item-num\">4&nbsp;&nbsp;</span>IDE (Integrated Development Environment, 통합개발환경)</a></span></li><li><span><a href=\"#Running-Python\" data-toc-modified-id=\"Running-Python-5\"><span class=\"toc-item-num\">5&nbsp;&nbsp;</span>Running Python</a></span></li><li><span><a href=\"#참고)-Magic-commands-for-IPython\" data-toc-modified-id=\"참고)-Magic-commands-for-IPython-6\"><span class=\"toc-item-num\">6&nbsp;&nbsp;</span>참고) Magic commands for IPython</a></span><ul class=\"toc-item\"><li><span><a href=\"#참고)-IPython\" data-toc-modified-id=\"참고)-IPython-6.1\"><span class=\"toc-item-num\">6.1&nbsp;&nbsp;</span>참고) IPython</a></span></li><li><span><a href=\"#Access-documentation-with-?\" data-toc-modified-id=\"Access-documentation-with-?-6.2\"><span class=\"toc-item-num\">6.2&nbsp;&nbsp;</span>Access documentation with ?</a></span></li><li><span><a href=\"#Access-source-code-with-??\" data-toc-modified-id=\"Access-source-code-with-??-6.3\"><span class=\"toc-item-num\">6.3&nbsp;&nbsp;</span>Access source code with ??</a></span></li></ul></li><li><span><a href=\"#Add-path\" data-toc-modified-id=\"Add-path-7\"><span class=\"toc-item-num\">7&nbsp;&nbsp;</span>Add path</a></span><ul class=\"toc-item\"><li><span><a href=\"#sys-module\" data-toc-modified-id=\"sys-module-7.1\"><span class=\"toc-item-num\">7.1&nbsp;&nbsp;</span>sys module</a></span></li></ul></li><li><span><a href=\"#Tab-completion\" data-toc-modified-id=\"Tab-completion-8\"><span class=\"toc-item-num\">8&nbsp;&nbsp;</span>Tab completion</a></span></li><li><span><a href=\"#Wildcard-matching\" data-toc-modified-id=\"Wildcard-matching-9\"><span class=\"toc-item-num\">9&nbsp;&nbsp;</span>Wildcard matching</a></span></li><li><span><a href=\"#참고)-List-of-packages\" data-toc-modified-id=\"참고)-List-of-packages-10\"><span class=\"toc-item-num\">10&nbsp;&nbsp;</span>참고) List of packages</a></span></li><li><span><a href=\"#참고\" data-toc-modified-id=\"참고-11\"><span class=\"toc-item-num\">11&nbsp;&nbsp;</span>참고</a></span><ul class=\"toc-item\"><li><span><a href=\"#GitHub\" data-toc-modified-id=\"GitHub-11.1\"><span class=\"toc-item-num\">11.1&nbsp;&nbsp;</span>GitHub</a></span></li><li><span><a href=\"#Useful-sites\" data-toc-modified-id=\"Useful-sites-11.2\"><span class=\"toc-item-num\">11.2&nbsp;&nbsp;</span>Useful sites</a></span></li><li><span><a href=\"#References\" data-toc-modified-id=\"References-11.3\"><span class=\"toc-item-num\">11.3&nbsp;&nbsp;</span>References</a></span></li></ul></li></ul></div>"
   ]
  },
  {
   "cell_type": "markdown",
   "metadata": {
    "slideshow": {
     "slide_type": "slide"
    }
   },
   "source": [
    "# 프로그램이란?\n",
    "- A sequence of stored instructions to perform a computation\n",
    "    - \"computation\": mathematical operation (e.g. addition), save result to a file, display data on the screen, $\\cdots$\n",
    "\n",
    "\n",
    "- 주어진 문제를 해결하기 위해 \"a sequence of stored instructions\" 혹은 \"알고리즘\"의 작성이 필요\n",
    "\n",
    "\n",
    "- 주어진 문제를 잘 해결하기 위해서는\n",
    "    1. 적절한 알고리즘을 사용\n",
    "    2. 이 알고리즘을 사용하는 프로그래밍 언어로 적절히 구현\n",
    "\n",
    "\n",
    "- 1.을 위해서, 문제에 대한 명확한 이해가 필요\n",
    "    - 이는 주로 non-programming 강의에서 이루어질 것\n",
    "\n",
    "\n",
    "- 2.를 위해서, 언어의 특성/문법을 익혀야 함\n",
    "    - 사전교육 및 이후의 Python 강의에서 이루어질 것\n",
    "    \n",
    "\n",
    "- 똑같은 결과를 낳더라도 알고리즘의 효율성이 다를 수 있음\n",
    "    - time efficiency, memory efficiency, ...\n",
    "    \n",
    "    \n",
    "- 원하는 결과를 충분히 빠른 시간 내에 얻기 위해, 프로그래밍 언어에 대한 이해가 필요\n"
   ]
  },
  {
   "cell_type": "markdown",
   "metadata": {
    "slideshow": {
     "slide_type": "slide"
    }
   },
   "source": [
    "# 프로그래밍 언어\n",
    "## 범용 언어 (general purpose language)\n",
    "- 다양한 분야에서 널리 사용할 수 있는 프로그래밍 언어\n",
    "- C, C++\n",
    "- C#\n",
    "- Java\n",
    "- Python\n",
    "\n",
    "## 도메인 특화 언어 (domain-specific language)\n",
    "- 특정한 분야/목적에서의 사용을 주 목적으로 만들어진 프로그래밍 언어\n",
    "- MATLAB\n",
    "- STATA, SAS, SPSS\n",
    "- Minitab, Eviews\n",
    "- R\n",
    "\n",
    "### Query language\n",
    "- SQL (Structured Query Language): 관계형 데이터베이스 관리시스템 (RDBMS)의 데이터를 관리하기 위해 설계된 특수 목적의 프로그래밍 언어\n",
    "    - mySQL, MS Access, SQLite 등\n",
    "    - Python, SAS에서도 SQL 문법을 사용 가능\n",
    "\n",
    "\n",
    "- RDBMS (Relational DataBase Management System): 행과 열로 구분된 데이터베이스 (tabular database)\n",
    "    - 엑셀 스프레드시트로 표현가능한 형태\n",
    "    - 항목(column)에 대해 관측값(row)이 있는 형태\n",
    "    - 대부분의 금융 데이터베이스에 해당\n",
    "        - row: time, column: firm name, ...\n",
    "        \n",
    "        \n",
    "- 금융 데이터베이스에서 데이터를 다운로드 받아 필요한 분석을 하기 위해서는 범용 언어 중 하나 (e.g. Python), 도메인 특화 언어 중 하나 (e.g. R or MATLAB), Query 언어 중 하나 (e.g. mySQL)을 모두 다룰 수 있으면 좋으나, 이는 현실적으로 쉽지 않음\n",
    "\n",
    "\n",
    "- Python 하나만으로도 분석을 충분히 다 할 수 있음\n"
   ]
  },
  {
   "cell_type": "markdown",
   "metadata": {
    "slideshow": {
     "slide_type": "slide"
    }
   },
   "source": [
    "## Why Python?\n",
    "### 쉽고 통일된 문법\n",
    "- C++, Java, VBA 등의 언어보다 편리함\n",
    "\n",
    "### 생산성\n",
    "- 결과를 얻기 위해 걸리는 시간 = 실행시간 + 개발시간\n",
    "\n",
    "- 실행시간: C, C++ << Python\n",
    "- 개발시간: Python << ... << C, C++\n",
    "\n",
    "- 실행시간이 정말로 중요한 경우에만 C, C++ 등을 사용하고, 그 외의 것들은 생산성을 위해 Python을 사용\n",
    "\n",
    "### active communities\n",
    "- 프로그래밍 구현에 문제가 있을 때 다른 사용자들에게 도움을 받기 쉬움\n",
    "    - Python Forum\n",
    "    - Stack Overflow\n",
    "    \n",
    "### useful libraries\n",
    "- 유용한 user-defined library가 많이 공개되어 있어, 직접 개발을 하지 않고도 간편하게 사용할 수 있음"
   ]
  },
  {
   "cell_type": "markdown",
   "metadata": {
    "slideshow": {
     "slide_type": "slide"
    }
   },
   "source": [
    "# 참고) Python version dependency\n",
    "\n",
    "- Anaconda는 Python + 여러 libraries\n",
    "\n",
    "- Anaconda에서는 기본적으로 가장 최근의 버전만 제공됨 (archive에서 구 버전을 찾을 수는 있음)\n",
    "\n",
    "## Some libraries depend on python version\n",
    "- Keras: Machine learning library. Compatible with 2.7-3.6 (https://keras.io/)\n",
    "- Theano: Machine learning library. Compatible with 2.7 or >= 3.4 and < 3.6 (http://deeplearning.net/software/theano/index.html)\n",
    "\n",
    "- Python 버전을 다운그레이드 해야 할 수 있음\n",
    "\n",
    "1) (Anaconda Prompt 창에서) conda update conda\n",
    "    - Anaconda에서 배포하는 Python + libraries들을 전부 업데이트\n",
    "    - 개별 library는 Anaconda 배포판보다 더 최신 버전이 있을 수 있음\n",
    "    - Anaconda에서는 모든 libraries에 대해 compatibility check를 하고 새 버전을 내놓음\n",
    "        - 특정 library를 개별적으로 업데이트하면 호환성이 깨질 가능성 있음\n",
    "\n",
    "2) (Anaconda Prompt 창에서) conda install python==3.6.9\n",
    "\n",
    "## virtual environment\n",
    "- 사용자 환경을 분리해서 사용을 하고 싶은 경우\n",
    "    - 여러 python version이 필요한 경우 (e.g. 2.x and 3.x)\n",
    "\n",
    "### Create a virtual environment\n",
    "- \\\\$ conda create -n *yourenvname* python=x.x anaconda\n",
    "\n",
    "### Activate a virtual environment\n",
    "- \\\\$ source activate *yourenvname*\n",
    "- Anaconda prompt 창의 명령줄 제일 왼쪽에 \"(root)\" 대신 \"(*yourenvname*)\"인 것을 확인\n",
    "    - default는 \"(base)\"\n",
    "\n",
    "\n",
    "### Install packages\n",
    "- \\\\$ conda install -n *yourenvname* *packagename*\n",
    "\n",
    "### deactivate a virtual environment\n",
    "- \\\\$ source deactivate\n",
    "\n",
    "### Delete a virtual environment\n",
    "- \\\\$ conda remove -n *yourenvname* all"
   ]
  },
  {
   "cell_type": "markdown",
   "metadata": {
    "slideshow": {
     "slide_type": "slide"
    }
   },
   "source": [
    "# IDE (Integrated Development Environment, 통합개발환경)\n",
    "- 소프트웨어 개발에 관련된 모든 작업 (코드 편집, 문법 확인, 자동 완성, 구문 강조, 디버깅 등)을 <br> 하나의 프로그램 안에서 모두 처리하는 환경을 제공하는 툴\n",
    "\n",
    "\n",
    "- Python 코드는 문법만 맞으면 메모장 등의 문서 편집기에서 작성을 해도 무관하나, <br> 프로그램이 복잡해질수록 가독성이나 생산성 면에서 크게 떨어짐. 때문에 일반적으로는 작업을 위해 IDE를 사용\n",
    "\n",
    "\n",
    "- text editor (문서 편집기): 메모장, 노트패드, 아래아 한글, MS-Word, ...\n",
    "- IDE: Jupyter notebook / Jupyter lab, Spyder, PyCharm, ...\n",
    "\n",
    "\n",
    "1) Spyder\n",
    "    - MATLAB과 비슷한 GUI. Variable explorer에서 변수들에 대한 정보를 확인 가능\n",
    "    \n",
    "2) Jupyter Notebook / Jupyter Lab\n",
    "    - 코드를 명시적으로 cell마다 나눠서 실행 가능\n",
    "    - web-based: print된 결과를 파일 자체에 저장 가능\n",
    "    - slideshow 지원\n",
    "    \n",
    "3) PyCharm\n",
    "    - 전문적인 기능을 제공하나, 설정이 다소 복잡하고 무거움\n",
    "    - project 개발에 적합하며, small stand-alone script 개발에는 비효율적\n"
   ]
  },
  {
   "cell_type": "markdown",
   "metadata": {
    "slideshow": {
     "slide_type": "slide"
    }
   },
   "source": [
    "# Running Python\n",
    "1) Interactive mode\n",
    "- to run simple commands to check the results right away\n",
    "- Anaconda Prompt에서 \"python\"을 입력해서 실행\n",
    "    - 즉각적으로 line-by-line으로 간단한 Python 코드를 실행 가능\n",
    "    \n",
    "2) Script mode\n",
    "- Python 코드를 .py 확장자를 갖는 텍스트 파일로 저장한 뒤, *python filepath/filename.py*로 코드를 실행\n",
    "    - 예시 (in Anaconda Prompt): \\\\$ python C:/local/myCode.py\n",
    "        - \"\\\\$\" 는 \"Anaconda prompt\"에서 직접 실행하란 의미. 실행시에는 \"\\\\$\"는 입력하지 않음\n",
    "    \n",
    "    - 예시 (in Jupyter notebook): ! python C:/local/myCode.py\n",
    "    \n",
    "  \n",
    "- \"\\\\$\" 는 Unix / Linux-based OS에서의 command prompt를 의미\n",
    "    - Windows에서 CMD를 열었을 때 \"C:\\Users\\username>\" 과 equivalent\n",
    "    - 책 등에서 \"\\\\$\"가 나올 때 Windows 사용자는 이를 입력할 필요가 없음. CMD 창에서의 입력이라고 생각하면 됨    \n",
    "    \n",
    "\n",
    "- \"!\"는 Run commands in CMD with Jupyter Notebook\n",
    "    - ! *commands*\n",
    "    - *commands*는 Python comands가 아닐 수 있음을 주의\n",
    "        - example) \"!dir\" vs \"dir\""
   ]
  },
  {
   "cell_type": "code",
   "execution_count": 1,
   "metadata": {
    "slideshow": {
     "slide_type": "fragment"
    }
   },
   "outputs": [
    {
     "name": "stdout",
     "output_type": "stream",
     "text": [
      "Hello, world!\n"
     ]
    }
   ],
   "source": [
    "# Script mode example\n",
    "! python C:/local/myCode.py # C:/local/ 에 내용이 print('Hello, world!')인 myCode.py를 미리 저장해놓음"
   ]
  },
  {
   "cell_type": "code",
   "execution_count": 41,
   "metadata": {
    "slideshow": {
     "slide_type": "fragment"
    }
   },
   "outputs": [
    {
     "ename": "SyntaxError",
     "evalue": "invalid syntax (<ipython-input-41-ee9c108394ac>, line 1)",
     "output_type": "error",
     "traceback": [
      "\u001b[1;36m  File \u001b[1;32m\"<ipython-input-41-ee9c108394ac>\"\u001b[1;36m, line \u001b[1;32m1\u001b[0m\n\u001b[1;33m    python C:/local/myCode.py\u001b[0m\n\u001b[1;37m           ^\u001b[0m\n\u001b[1;31mSyntaxError\u001b[0m\u001b[1;31m:\u001b[0m invalid syntax\n"
     ]
    }
   ],
   "source": [
    "python C:/local/myCode.py"
   ]
  },
  {
   "cell_type": "code",
   "execution_count": 42,
   "metadata": {
    "slideshow": {
     "slide_type": "fragment"
    }
   },
   "outputs": [
    {
     "ename": "SyntaxError",
     "evalue": "invalid syntax (<ipython-input-42-db36bd49b5ce>, line 1)",
     "output_type": "error",
     "traceback": [
      "\u001b[1;36m  File \u001b[1;32m\"<ipython-input-42-db36bd49b5ce>\"\u001b[1;36m, line \u001b[1;32m1\u001b[0m\n\u001b[1;33m    C:/local/myCode.py\u001b[0m\n\u001b[1;37m      ^\u001b[0m\n\u001b[1;31mSyntaxError\u001b[0m\u001b[1;31m:\u001b[0m invalid syntax\n"
     ]
    }
   ],
   "source": [
    "C:/local/myCode.py"
   ]
  },
  {
   "cell_type": "markdown",
   "metadata": {
    "slideshow": {
     "slide_type": "slide"
    }
   },
   "source": [
    "# 참고) Magic commands for IPython\n",
    "- Jupyter notebook / Jupyter lab에서 유용하게 사용 가능\n",
    "    - Spyder에서는 제한적으로만 사용 가능\n",
    "        - Spyder에서는 \"Run selection or current line (F9)\"으로만 작동하며, \"Run cell (Ctrl+Enter)\"로는 작동하지 않음\n",
    "    - https://ipython.readthedocs.io/en/stable/interactive/magics.html\n",
    "\n",
    "\n",
    "- \\%*magic*: print information about the magic function system\n",
    "\n",
    "- \\%pwd: Return the current working directory path\n",
    "\n",
    "- \\%cd: Change the current working directory\n",
    "    - Python은 current working directory부터 source code를 찾아서 실행함\n",
    "    \n",
    "\n",
    "- \\%who: 현재 저장되어 있는 변수명을 반환\n",
    "\n",
    "- \\%who_ls:현재 저장되어 있는 변수명을 list로 반환\n",
    "\n",
    "- \\%whos: %who와 흡사. 변수들에 대한 추가적인 정보를 제공\n",
    "\n",
    "\n",
    "- \\%time: 코드 실행에 걸리는 시간을 반환\n",
    "- \\%timeit: 코드 실행에 걸리는 시간을 반환; 여러 번 실행\n",
    "\n",
    "\n",
    "- \\%debug: Activate the interactive debugger"
   ]
  },
  {
   "cell_type": "code",
   "execution_count": 8,
   "metadata": {
    "slideshow": {
     "slide_type": "subslide"
    }
   },
   "outputs": [
    {
     "name": "stdout",
     "output_type": "stream",
     "text": [
      "square\t x\t y\t z\t \n",
      "\n",
      "\n",
      "Variable   Type        Data/Info\n",
      "--------------------------------\n",
      "square     function    <function square at 0x00000284A3B5B0D8>\n",
      "x          int         5\n",
      "y          int         3\n",
      "z          int         7\n",
      "\n",
      "\n"
     ]
    },
    {
     "data": {
      "text/plain": [
       "['square', 'x', 'y', 'z']"
      ]
     },
     "execution_count": 8,
     "metadata": {},
     "output_type": "execute_result"
    }
   ],
   "source": [
    "x=5\n",
    "y=3\n",
    "z=7\n",
    "%who\n",
    "print('\\n')\n",
    "\n",
    "%whos\n",
    "print('\\n')\n",
    "\n",
    "%who_ls"
   ]
  },
  {
   "cell_type": "markdown",
   "metadata": {
    "slideshow": {
     "slide_type": "slide"
    }
   },
   "source": [
    "## 참고) IPython\n",
    "- A command shell for Python / interactive command-line terminal for Python; just an interface in essence\n",
    "    - shell: \"a user interface for access to an OS services\"\n",
    "\n",
    "\n",
    "- kernel for Jupyter\n",
    "    - 원래 \"IPython Notebook\"이던 이름이 \"Jupyter Notebook\"으로 바뀜\n",
    "    - 이는 이제 Jupyter Notebook에서 Python 외의 언어도 지원하기 때문 (R, Julia, Scala, SAS, MATLAB, ...)\n",
    "    \n",
    "\n",
    "- OS shells use either command-line interface (CLI) or graphical user interface (GUI)\n",
    "    - CLI 예시: Command prompt (Windows), Windows PowerShell (Windows), Bash (Unix, Linux)\n",
    "    - GUI 예시: Windows 시작 메뉴, 파일 탐색기, ...\n",
    "\n",
    "\n",
    "- tab completion, support for interactive data visualization, ...\n",
    "\n",
    "\n",
    "- command prompt에서 python 및 ipython의 입력을 통해 standard Python interpreter와 IPython interpreter의 차이를 확인 가능\n",
    "    - IPython: standard Python shell + $\\alpha$\n",
    "    \n",
    "    \n",
    "- IPython을 사용하지 않고서도 script mode를 이용해 .py 확장자를 갖는 파일을 실행 가능"
   ]
  },
  {
   "cell_type": "markdown",
   "metadata": {},
   "source": [
    "## Access documentation with ?\n",
    "- ex) sum?\n",
    "\n",
    "## Access source code with ??\n",
    "- ex) sum??\n",
    "\n",
    "- 때때로 \"??\"를 쳐도 아무런 source code를 보여주지 않고, \"?\"와 같은 결과만을 반환함\n",
    "- 일반적으로는 보고 싶은 내용이 Python으로 작성되어 있지 않고, C 혹은 다른 compile language로 작성이 되어있는 경우에 해당\n",
    "- 대부분 Python의 built-in object나 type에 해당"
   ]
  },
  {
   "cell_type": "code",
   "execution_count": 7,
   "metadata": {
    "slideshow": {
     "slide_type": "slide"
    }
   },
   "outputs": [],
   "source": [
    "def square(x):\n",
    "    '''return the square of x'''\n",
    "    return x**2\n",
    "square?"
   ]
  },
  {
   "cell_type": "code",
   "execution_count": 6,
   "metadata": {
    "slideshow": {
     "slide_type": "fragment"
    }
   },
   "outputs": [],
   "source": [
    "square??"
   ]
  },
  {
   "cell_type": "markdown",
   "metadata": {
    "slideshow": {
     "slide_type": "slide"
    }
   },
   "source": [
    "# Add path\n",
    "- $ import os\n",
    "\n",
    "- $ os.getcwd()\n",
    "\n",
    "## sys module\n",
    "- **sys.path**: Python이 시스템에서 module(\\*.py 파일)을 검색하는 위치\n",
    "- python script가 저장되어 있는 위치와 다른 path에 있다면, 해당 .py 파일을 실행하기 위해서는 **sys.path**에 추가해야 함"
   ]
  },
  {
   "cell_type": "code",
   "execution_count": 25,
   "metadata": {
    "slideshow": {
     "slide_type": "slide"
    }
   },
   "outputs": [
    {
     "data": {
      "text/plain": [
       "['C:\\\\Users\\\\crux_\\\\Anaconda3\\\\python36.zip',\n",
       " 'C:\\\\Users\\\\crux_\\\\Anaconda3\\\\DLLs',\n",
       " 'C:\\\\Users\\\\crux_\\\\Anaconda3\\\\lib',\n",
       " 'C:\\\\Users\\\\crux_\\\\Anaconda3',\n",
       " '',\n",
       " 'C:\\\\Users\\\\crux_\\\\AppData\\\\Roaming\\\\Python\\\\Python36\\\\site-packages',\n",
       " 'C:\\\\Users\\\\crux_\\\\Anaconda3\\\\lib\\\\site-packages',\n",
       " 'C:\\\\Users\\\\crux_\\\\Anaconda3\\\\lib\\\\site-packages\\\\win32',\n",
       " 'C:\\\\Users\\\\crux_\\\\Anaconda3\\\\lib\\\\site-packages\\\\win32\\\\lib',\n",
       " 'C:\\\\Users\\\\crux_\\\\Anaconda3\\\\lib\\\\site-packages\\\\Pythonwin',\n",
       " 'C:\\\\Users\\\\crux_\\\\Anaconda3\\\\lib\\\\site-packages\\\\IPython\\\\extensions',\n",
       " 'C:\\\\Users\\\\crux_\\\\.ipython']"
      ]
     },
     "metadata": {},
     "output_type": "display_data"
    },
    {
     "data": {
      "text/plain": [
       "['C:\\\\Users\\\\crux_\\\\Anaconda3\\\\python36.zip',\n",
       " 'C:\\\\Users\\\\crux_\\\\Anaconda3\\\\DLLs',\n",
       " 'C:\\\\Users\\\\crux_\\\\Anaconda3\\\\lib',\n",
       " 'C:\\\\Users\\\\crux_\\\\Anaconda3',\n",
       " '',\n",
       " 'C:\\\\Users\\\\crux_\\\\AppData\\\\Roaming\\\\Python\\\\Python36\\\\site-packages',\n",
       " 'C:\\\\Users\\\\crux_\\\\Anaconda3\\\\lib\\\\site-packages',\n",
       " 'C:\\\\Users\\\\crux_\\\\Anaconda3\\\\lib\\\\site-packages\\\\win32',\n",
       " 'C:\\\\Users\\\\crux_\\\\Anaconda3\\\\lib\\\\site-packages\\\\win32\\\\lib',\n",
       " 'C:\\\\Users\\\\crux_\\\\Anaconda3\\\\lib\\\\site-packages\\\\Pythonwin',\n",
       " 'C:\\\\Users\\\\crux_\\\\Anaconda3\\\\lib\\\\site-packages\\\\IPython\\\\extensions',\n",
       " 'C:\\\\Users\\\\crux_\\\\.ipython',\n",
       " 'C:\\\\myFolder']"
      ]
     },
     "metadata": {},
     "output_type": "display_data"
    },
    {
     "data": {
      "text/plain": [
       "['C:\\\\Users\\\\crux_\\\\Anaconda3\\\\python36.zip',\n",
       " 'C:\\\\Users\\\\crux_\\\\Anaconda3\\\\DLLs',\n",
       " 'C:\\\\Users\\\\crux_\\\\Anaconda3\\\\lib',\n",
       " 'C:\\\\Users\\\\crux_\\\\Anaconda3',\n",
       " '',\n",
       " 'C:\\\\Users\\\\crux_\\\\AppData\\\\Roaming\\\\Python\\\\Python36\\\\site-packages',\n",
       " 'C:\\\\Users\\\\crux_\\\\Anaconda3\\\\lib\\\\site-packages',\n",
       " 'C:\\\\Users\\\\crux_\\\\Anaconda3\\\\lib\\\\site-packages\\\\win32',\n",
       " 'C:\\\\Users\\\\crux_\\\\Anaconda3\\\\lib\\\\site-packages\\\\win32\\\\lib',\n",
       " 'C:\\\\Users\\\\crux_\\\\Anaconda3\\\\lib\\\\site-packages\\\\Pythonwin',\n",
       " 'C:\\\\Users\\\\crux_\\\\Anaconda3\\\\lib\\\\site-packages\\\\IPython\\\\extensions',\n",
       " 'C:\\\\Users\\\\crux_\\\\.ipython']"
      ]
     },
     "metadata": {},
     "output_type": "display_data"
    }
   ],
   "source": [
    "import sys\n",
    "display(sys.path)\n",
    "sys.path.append('C:\\\\myFolder')\n",
    "display(sys.path)\n",
    "sys.path.remove('C:\\\\myFolder')\n",
    "display(sys.path)"
   ]
  },
  {
   "cell_type": "markdown",
   "metadata": {
    "slideshow": {
     "slide_type": "slide"
    }
   },
   "source": [
    "# Tab completion\n",
    "- L = [1,2,3]\n",
    "\n",
    "- L.< TAB >\n",
    "    - \"L.\" 까지 입력한 후 TAB 키를 누르면, L이라는 변수에 대해 사용가능한 keyword나 함수들의 목록이 자동으로 완성됨\n",
    "\n",
    "- L.c< TAB >\n",
    "    - \"L.c\" 까지 입력한 후 TAB 키를 누르면, L이라는 변수에 대해 사용가능한 keyword나 함수들 중 \"c\"로 시작하는 목록이 자동으로 완성됨\n",
    "\n",
    "# Wildcard matching\n",
    "- *Warning?\n",
    "    - Warning으로 끝나는 keyword들이 출력됨.\n",
    "    \n",
    "- ABC*XYZ?\n",
    "    - ABC로 시작하고 XYZ로 끝나는 keyword들이 출력됨"
   ]
  },
  {
   "cell_type": "code",
   "execution_count": 69,
   "metadata": {
    "slideshow": {
     "slide_type": "fragment"
    }
   },
   "outputs": [],
   "source": [
    "*Warning?"
   ]
  },
  {
   "cell_type": "markdown",
   "metadata": {
    "slideshow": {
     "slide_type": "slide"
    }
   },
   "source": [
    "# 참고) List of packages\n",
    "- \"$ conda list\" 명령어를 통해 설치된 패키지 목록을 확인 가능\n",
    "- 특정 패키지의 설치가 필요한 경우, conda install *packagename* (or conda update *packagename*)을 통해 설치 가능\n",
    "- 패키지의 공식 명칭과 설치에 이용되는 명칭은 다를 수 있음\n",
    "    - 예시) Scikit-learn 패키지 설치: conda install *sklearn*"
   ]
  },
  {
   "cell_type": "code",
   "execution_count": 16,
   "metadata": {},
   "outputs": [
    {
     "name": "stdout",
     "output_type": "stream",
     "text": [
      "# packages in environment at C:\\Users\\crux_\\anaconda3:\n",
      "#\n",
      "# Name                    Version                   Build  Channel\n",
      "_anaconda_depends         2019.03                  py37_0    anaconda\n",
      "_ipyw_jlab_nb_ext_conf    0.1.0                    py37_0  \n",
      "_tflow_select             2.1.0                       gpu    anaconda\n",
      "absl-py                   0.9.0                    py37_0    anaconda\n",
      "alabaster                 0.7.12                   py37_0    anaconda\n",
      "anaconda                  custom                   py37_1  \n",
      "anaconda-client           1.7.2                    py37_0    anaconda\n",
      "anaconda-navigator        1.9.12                   py37_0  \n",
      "anaconda-project          0.8.4                      py_0    anaconda\n",
      "argh                      0.26.2                   py37_0    anaconda\n",
      "asn1crypto                1.3.0                    py37_0    anaconda\n",
      "astor                     0.8.0                    py37_0    anaconda\n",
      "astroid                   2.3.3                    py37_0    anaconda\n",
      "astropy                   4.0.1.post1      py37he774522_0    anaconda\n",
      "atomicwrites              1.3.0                    py37_1    anaconda\n",
      "attrs                     19.3.0                     py_0    anaconda\n",
      "autopep8                  1.4.4                      py_0    anaconda\n",
      "babel                     2.8.0                      py_0    anaconda\n",
      "backcall                  0.1.0                    py37_0    anaconda\n",
      "backports                 1.0                        py_2    anaconda\n",
      "backports.functools_lru_cache 1.6.1                      py_0    anaconda\n",
      "backports.os              0.1.1                    py37_0    anaconda\n",
      "backports.shutil_get_terminal_size 1.0.0                    py37_2    anaconda\n",
      "backports.tempfile        1.0                        py_1    anaconda\n",
      "backports.weakref         1.0.post1                  py_1    anaconda\n",
      "bcrypt                    3.1.7            py37he774522_0    anaconda\n",
      "beautifulsoup4            4.8.2                    py37_0    anaconda\n",
      "bitarray                  1.2.1            py37he774522_0    anaconda\n",
      "bkcharts                  0.2                      py37_0    anaconda\n",
      "blas                      1.0                         mkl    anaconda\n",
      "bleach                    3.1.0                    py37_0    anaconda\n",
      "blinker                   1.4                      py37_0    anaconda\n",
      "blosc                     1.16.3               h7bd577a_0    anaconda\n",
      "bokeh                     2.0.1                    py37_0    anaconda\n",
      "boto                      2.49.0                   py37_0    anaconda\n",
      "bottleneck                1.3.2            py37h2a96729_0    anaconda\n",
      "bzip2                     1.0.8                he774522_0    anaconda\n",
      "ca-certificates           2020.6.20            hecda079_0    conda-forge\n",
      "cachetools                3.1.1                      py_0    anaconda\n",
      "certifi                   2020.6.20        py37hc8dfbb8_0    conda-forge\n",
      "cffi                      1.14.0           py37h7a1dbc1_0    anaconda\n",
      "chardet                   3.0.4                 py37_1003    anaconda\n",
      "click                     7.1.1                      py_0    anaconda\n",
      "cloudpickle               1.3.0                      py_0    anaconda\n",
      "clyent                    1.2.2                    py37_1    anaconda\n",
      "colorama                  0.4.3                      py_0    anaconda\n",
      "comtypes                  1.1.7                    py37_0    anaconda\n",
      "conda                     4.8.3                    py37_0  \n",
      "conda-build               3.18.11                  py37_0  \n",
      "conda-env                 2.6.0                         1  \n",
      "conda-package-handling    1.6.0            py37h62dcd97_0    anaconda\n",
      "conda-verify              3.4.2                      py_1  \n",
      "console_shortcut          0.1.1                         4  \n",
      "contextlib2               0.6.0.post1                py_0    anaconda\n",
      "cryptography              2.8              py37h7a1dbc1_0    anaconda\n",
      "cudatoolkit               10.1.243             h74a9793_0  \n",
      "cudnn                     7.6.5                cuda10.1_0    anaconda\n",
      "curl                      7.69.1               h2a8f88b_0    anaconda\n",
      "cycler                    0.10.0                   py37_0    anaconda\n",
      "cython                    0.29.15          py37ha925a31_0    anaconda\n",
      "cytoolz                   0.10.1           py37he774522_0    anaconda\n",
      "dask                      2.14.0                     py_0    anaconda\n",
      "dask-core                 2.14.0                     py_0    anaconda\n",
      "decorator                 4.4.2                      py_0    anaconda\n",
      "deeplift                  0.6.10.0                 pypi_0    pypi\n",
      "defusedxml                0.6.0                      py_0    anaconda\n",
      "diff-match-patch          20181111                   py_0    anaconda\n",
      "distributed               2.14.0                   py37_0    anaconda\n",
      "docutils                  0.16                     py37_0    anaconda\n",
      "entrypoints               0.3                      py37_0    anaconda\n",
      "et_xmlfile                1.0.1                    py37_0    anaconda\n",
      "fastcache                 1.1.0            py37he774522_0    anaconda\n",
      "filelock                  3.0.12                     py_0    anaconda\n",
      "flake8                    3.7.9                    py37_0    anaconda\n",
      "flask                     1.1.1                      py_0    anaconda\n",
      "freetype                  2.9.1                ha9979f8_1    anaconda\n",
      "fsspec                    0.7.1                      py_0    anaconda\n",
      "future                    0.18.2                   py37_0    anaconda\n",
      "gast                      0.2.2                    py37_0    anaconda\n",
      "get_terminal_size         1.0.0                h38e98db_0    anaconda\n",
      "gevent                    1.4.0            py37he774522_0    anaconda\n",
      "glob2                     0.7                        py_0    anaconda\n",
      "google-auth               1.13.1                     py_0    anaconda\n",
      "google-auth-oauthlib      0.4.1                      py_2    anaconda\n",
      "google-pasta              0.2.0                      py_0    anaconda\n",
      "greenlet                  0.4.15           py37hfa6e2cd_0    anaconda\n",
      "grpcio                    1.27.2           py37h351948d_0    anaconda\n",
      "h5py                      2.10.0           py37h5e291fa_0    anaconda\n",
      "hdf5                      1.10.4               h7ebc959_0    anaconda\n",
      "heapdict                  1.0.1                      py_0    anaconda\n",
      "html5lib                  1.0.1                    py37_0    anaconda\n",
      "hypothesis                5.5.4                      py_0    anaconda\n",
      "icc_rt                    2019.0.0             h0cc432a_1    anaconda\n",
      "icu                       58.2             vc14hc45fdbb_0  [vc14]  anaconda\n",
      "idna                      2.9                        py_1    anaconda\n",
      "imageio                   2.8.0                      py_0    anaconda\n",
      "imagesize                 1.2.0                      py_0    anaconda\n",
      "importlib_metadata        1.5.0                    py37_0    anaconda\n",
      "intel-openmp              2020.0                      166    anaconda\n",
      "intervaltree              3.0.2                      py_0    anaconda\n",
      "ipykernel                 5.1.4            py37h39e3cac_0    anaconda\n",
      "ipython                   7.13.0           py37h5ca1d4c_0    anaconda\n",
      "ipython_genutils          0.2.0                    py37_0    anaconda\n",
      "ipywidgets                7.5.1                      py_0    anaconda\n",
      "isort                     4.3.21                   py37_0    anaconda\n",
      "itsdangerous              1.1.0                    py37_0    anaconda\n",
      "jdcal                     1.4.1                      py_0    anaconda\n",
      "jedi                      0.15.2                   py37_0    anaconda\n",
      "jinja2                    2.11.1                     py_0    anaconda\n",
      "joblib                    0.14.1                     py_0    anaconda\n",
      "jpeg                      9b               vc14h4d7706e_1  [vc14]  anaconda\n",
      "json5                     0.9.4                      py_0    anaconda\n",
      "jsonschema                3.2.0                    py37_0    anaconda\n",
      "jupyter                   1.0.0                    py37_7    anaconda\n",
      "jupyter-contrib-core      0.3.3                    pypi_0    pypi\n",
      "jupyter-contrib-nbextensions 0.5.1                    pypi_0    pypi\n",
      "jupyter-highlight-selected-word 0.2.0                    pypi_0    pypi\n",
      "jupyter-latex-envs        1.4.6                    pypi_0    pypi\n",
      "jupyter_client            6.1.2                      py_0    anaconda\n",
      "jupyter_console           6.1.0                      py_0    anaconda\n",
      "jupyter_contrib_core      0.3.3                      py_2    conda-forge\n",
      "jupyter_core              4.6.3                    py37_0    anaconda\n",
      "jupyter_nbextensions_configurator 0.4.1            py37hc8dfbb8_1    conda-forge\n",
      "jupyterlab                1.2.6              pyhf63ae98_0    anaconda\n",
      "jupyterlab_server         1.1.0                      py_0    anaconda\n",
      "jupyterthemes             0.20.0                     py_1    conda-forge\n",
      "keras-applications        1.0.8                      py_0    anaconda\n",
      "keras-preprocessing       1.1.0                      py_1    anaconda\n",
      "keyring                   21.1.1                   py37_2    anaconda\n",
      "kiwisolver                1.1.0            py37ha925a31_0    anaconda\n",
      "krb5                      1.17.1               hc04afaa_0    anaconda\n",
      "lazy-object-proxy         1.4.3            py37he774522_0    anaconda\n",
      "lesscpy                   0.14.0                   pypi_0    pypi\n",
      "libarchive                3.3.3                h0643e63_5    anaconda\n",
      "libcurl                   7.69.1               h2a8f88b_0    anaconda\n",
      "libiconv                  1.15             vc14h29686d3_5  [vc14]  anaconda\n",
      "liblief                   0.9.0                ha925a31_3    anaconda\n",
      "libpng                    1.6.37               h2a8f88b_0    anaconda\n",
      "libprotobuf               3.11.4               h7bd577a_0    anaconda\n",
      "libsodium                 1.0.16               h9d3ae62_0    anaconda\n",
      "libspatialindex           1.9.3                h33f27b4_0    anaconda\n",
      "libssh2                   1.9.0                h7a1dbc1_1    anaconda\n",
      "libtiff                   4.1.0                h56a325e_0    anaconda\n",
      "libxml2                   2.9.9                h464c3ec_0    anaconda\n",
      "libxslt                   1.1.33               h579f668_0    anaconda\n",
      "lightgbm                  2.3.1                    pypi_0    pypi\n",
      "lime                      0.2.0.0                  pypi_0    pypi\n",
      "llvmlite                  0.31.0           py37ha925a31_0    anaconda\n",
      "locket                    0.2.0                    py37_1    anaconda\n",
      "lxml                      4.5.0            py37h1350720_0    anaconda\n",
      "lz4-c                     1.8.1.2              h2fa13f4_0    anaconda\n",
      "lzo                       2.10             vc14h0a64fa6_1  [vc14]  anaconda\n",
      "m2w64-gcc-libgfortran     5.3.0                         6  \n",
      "m2w64-gcc-libs            5.3.0                         7  \n",
      "m2w64-gcc-libs-core       5.3.0                         7  \n",
      "m2w64-gmp                 6.1.0                         2  \n",
      "m2w64-libwinpthread-git   5.0.0.4634.697f757               2  \n",
      "markdown                  3.1.1                    py37_0    anaconda\n",
      "markupsafe                1.1.1            py37he774522_0    anaconda\n",
      "matplotlib                3.1.3                    py37_0    anaconda\n",
      "matplotlib-base           3.1.3            py37h64f37c6_0    anaconda\n",
      "mccabe                    0.6.1                    py37_1    anaconda\n",
      "menuinst                  1.4.16           py37he774522_0  \n",
      "mglearn                   0.1.7                    pypi_0    pypi\n",
      "mistune                   0.8.4            py37he774522_0    anaconda\n",
      "mkl                       2019.5                      281    anaconda\n",
      "mkl-service               2.3.0            py37hb782905_0    anaconda\n",
      "mkl_fft                   1.0.15           py37h14836fe_0    anaconda\n",
      "mkl_random                1.1.0            py37h675688f_0    anaconda\n",
      "mock                      4.0.1                      py_0    anaconda\n",
      "more-itertools            8.2.0                      py_0    anaconda\n",
      "mpmath                    1.1.0                    py37_0    anaconda\n",
      "msgpack-python            1.0.0            py37h74a9793_1    anaconda\n",
      "msys2-conda-epoch         20160418                      1  \n",
      "multipledispatch          0.6.0                    py37_0    anaconda\n",
      "navigator-updater         0.2.1                    py37_0  \n",
      "nbconvert                 5.6.1                    py37_0    anaconda\n",
      "nbformat                  5.0.4                      py_0    anaconda\n",
      "networkx                  2.4                        py_0    anaconda\n",
      "ninja                     1.9.0            py37h74a9793_0    anaconda\n",
      "nltk                      3.4.5                    py37_0    anaconda\n",
      "nose                      1.3.7                    py37_2    anaconda\n",
      "notebook                  6.0.3                    py37_0  \n",
      "numba                     0.48.0           py37h47e9c7a_0    anaconda\n",
      "numexpr                   2.7.1            py37h25d0782_0    anaconda\n",
      "numpy                     1.18.1           py37h93ca92e_0    anaconda\n",
      "numpy-base                1.18.1           py37hc3f5095_1    anaconda\n",
      "numpydoc                  0.9.2                      py_0    anaconda\n",
      "oauthlib                  3.1.0                      py_0    anaconda\n",
      "olefile                   0.46                     py37_0    anaconda\n",
      "openpyxl                  3.0.3                      py_0    anaconda\n",
      "openssl                   1.1.1g               he774522_0    conda-forge\n",
      "opt_einsum                3.1.0                      py_0    anaconda\n",
      "packaging                 20.3                       py_0    anaconda\n",
      "pandas                    0.25.3           py37ha925a31_0  \n",
      "pandoc                    2.2.3.2                       0    anaconda\n",
      "pandocfilters             1.4.2                    py37_1    anaconda\n",
      "paramiko                  2.7.1                      py_0    anaconda\n",
      "parso                     0.5.2                      py_0    anaconda\n",
      "partd                     1.1.0                      py_0    anaconda\n",
      "path                      13.1.0                   py37_0    anaconda\n",
      "path.py                   12.4.0                        0    anaconda\n",
      "pathlib2                  2.3.5                    py37_0    anaconda\n",
      "pathtools                 0.1.2                      py_1    anaconda\n",
      "patsy                     0.5.1                    py37_0    anaconda\n",
      "pep8                      1.7.1                    py37_0    anaconda\n",
      "pexpect                   4.8.0                    py37_0    anaconda\n",
      "pickleshare               0.7.5                    py37_0    anaconda\n",
      "pillow                    7.0.0                    pypi_0    pypi\n",
      "pip                       20.0.2                   py37_1    anaconda\n",
      "pkginfo                   1.5.0.1                  py37_0    anaconda\n",
      "pluggy                    0.13.1                   py37_0    anaconda\n",
      "ply                       3.11                     py37_0    anaconda\n",
      "powershell_shortcut       0.0.1                         3  \n",
      "prometheus_client         0.7.1                      py_0    anaconda\n",
      "prompt-toolkit            3.0.4                      py_0    anaconda\n",
      "prompt_toolkit            3.0.4                         0    anaconda\n",
      "protobuf                  3.11.4           py37h33f27b4_0    anaconda\n",
      "psutil                    5.7.0            py37he774522_0    anaconda\n",
      "psycopg2-binary           2.8.5                    pypi_0    pypi\n",
      "py                        1.8.1                      py_0    anaconda\n",
      "py-lief                   0.9.0            py37ha925a31_3    anaconda\n",
      "pyasn1                    0.4.8                      py_0    anaconda\n",
      "pyasn1-modules            0.2.7                      py_0    anaconda\n",
      "pycodestyle               2.5.0                    py37_0    anaconda\n",
      "pycosat                   0.6.3            py37he774522_0    anaconda\n",
      "pycparser                 2.20                       py_0    anaconda\n",
      "pycrypto                  2.6.1            py37hfa6e2cd_9    anaconda\n",
      "pycurl                    7.43.0.5         py37h7a1dbc1_0    anaconda\n",
      "pydocstyle                4.0.1                      py_0    anaconda\n",
      "pyflakes                  2.1.1                    py37_0    anaconda\n",
      "pygments                  2.6.1                      py_0    anaconda\n",
      "pyjwt                     1.7.1                    py37_0    anaconda\n",
      "pylint                    2.4.4                    py37_0    anaconda\n",
      "pynacl                    1.3.0            py37h62dcd97_0    anaconda\n",
      "pyodbc                    4.0.30           py37ha925a31_0    anaconda\n",
      "pyopenssl                 19.1.0                   py37_0    anaconda\n",
      "pyparsing                 2.4.6                      py_0    anaconda\n",
      "pyqt                      5.9.2            py37ha878b3d_0    anaconda\n",
      "pyreadline                2.1                      py37_1    anaconda\n",
      "pyrsistent                0.16.0           py37he774522_0    anaconda\n",
      "pysocks                   1.7.1                    py37_0    anaconda\n",
      "pytables                  3.6.1            py37h1da0976_0    anaconda\n",
      "pytest                    5.4.1                    py37_0    anaconda\n",
      "pytest-arraydiff          0.3              py37h39e3cac_0    anaconda\n",
      "pytest-astropy            0.8.0                      py_0    anaconda\n",
      "pytest-astropy-header     0.1.2                      py_0    anaconda\n",
      "pytest-doctestplus        0.5.0                      py_0    anaconda\n",
      "pytest-openfiles          0.4.0                      py_0    anaconda\n",
      "pytest-remotedata         0.3.2                    py37_0    anaconda\n",
      "python                    3.7.7           h60c2a47_0_cpython  \n",
      "python-dateutil           2.8.1                      py_0    anaconda\n",
      "python-jsonrpc-server     0.3.4                      py_0    anaconda\n",
      "python-language-server    0.31.9                   py37_0    anaconda\n",
      "python-libarchive-c       2.8                     py37_13    anaconda\n",
      "python_abi                3.7                     1_cp37m    conda-forge\n",
      "pytorch                   1.4.0           py3.7_cuda101_cudnn7_0    pytorch\n",
      "pytz                      2019.3                     py_0    anaconda\n",
      "pywavelets                1.1.1            py37he774522_0    anaconda\n",
      "pywin32                   227              py37he774522_1    anaconda\n",
      "pywin32-ctypes            0.2.0                 py37_1000    anaconda\n",
      "pywinpty                  0.5.7                    py37_0    anaconda\n",
      "pyyaml                    5.3.1            py37he774522_0    anaconda\n",
      "pyzmq                     18.1.1           py37ha925a31_0    anaconda\n",
      "qdarkstyle                2.8                        py_0    anaconda\n",
      "qt                        5.9.7            vc14h73c81de_0  [vc14]  anaconda\n",
      "qtawesome                 0.7.0                      py_0    anaconda\n",
      "qtconsole                 4.7.2                      py_0    anaconda\n",
      "qtpy                      1.9.0                      py_0    anaconda\n",
      "requests                  2.23.0                   py37_0    anaconda\n",
      "requests-oauthlib         1.3.0                      py_0    anaconda\n",
      "rise                      5.6.1            py37hc8dfbb8_1    conda-forge\n",
      "rope                      0.16.0                     py_0    anaconda\n",
      "rsa                       4.0                        py_0    anaconda\n",
      "rtree                     0.9.3            py37h21ff451_0    anaconda\n",
      "ruamel_yaml               0.15.87          py37he774522_0    anaconda\n",
      "scikit-image              0.16.2           py37h47e9c7a_0    anaconda\n",
      "scikit-learn              0.22.1           py37h6288b17_0    anaconda\n",
      "scipy                     1.4.1            py37h9439919_0    anaconda\n",
      "seaborn                   0.10.0                     py_0    anaconda\n",
      "send2trash                1.5.0                    py37_0    anaconda\n",
      "setuptools                46.1.3                   py37_0    anaconda\n",
      "shap                      0.34.0           py37he350917_0    conda-forge\n",
      "simplegeneric             0.8.1                    py37_2    anaconda\n",
      "singledispatch            3.4.0.3                  py37_0    anaconda\n",
      "sip                       4.19.13          py37ha925a31_0    anaconda\n",
      "six                       1.14.0                   py37_0    anaconda\n",
      "snappy                    1.1.7            vc14h2dea872_1  [vc14]  anaconda\n",
      "snowballstemmer           2.0.0                      py_0    anaconda\n",
      "sortedcollections         1.1.2                    py37_0    anaconda\n",
      "sortedcontainers          2.1.0                    py37_0    anaconda\n",
      "soupsieve                 2.0                        py_0    anaconda\n",
      "sphinx                    2.4.4                      py_0    anaconda\n",
      "sphinxcontrib             1.0                      py37_1    anaconda\n",
      "sphinxcontrib-applehelp   1.0.2                      py_0    anaconda\n",
      "sphinxcontrib-devhelp     1.0.2                      py_0    anaconda\n",
      "sphinxcontrib-htmlhelp    1.0.3                      py_0    anaconda\n",
      "sphinxcontrib-jsmath      1.0.1                      py_0    anaconda\n",
      "sphinxcontrib-qthelp      1.0.3                      py_0    anaconda\n",
      "sphinxcontrib-serializinghtml 1.1.4                      py_0    anaconda\n",
      "sphinxcontrib-websupport  1.2.1                      py_0    anaconda\n",
      "spyder                    4.1.2                    py37_0    anaconda\n",
      "spyder-kernels            1.9.0                    py37_0    anaconda\n",
      "sqlalchemy                1.3.15           py37he774522_1    anaconda\n",
      "sqlite                    3.31.1               he774522_0    anaconda\n",
      "statsmodels               0.11.0           py37he774522_0    anaconda\n",
      "sympy                     1.5.1                    py37_0    anaconda\n",
      "tbb                       2020.0               h74a9793_0    anaconda\n",
      "tblib                     1.6.0                      py_0    anaconda\n",
      "tensorboard               2.1.0                     py3_0    anaconda\n",
      "tensorflow                2.1.0           gpu_py37h7db9008_0    anaconda\n",
      "tensorflow-base           2.1.0           gpu_py37h55f5790_0    anaconda\n",
      "tensorflow-estimator      2.1.0              pyhd54b08b_0    anaconda\n",
      "tensorflow-gpu            2.1.0                h0d30ee6_0  \n",
      "termcolor                 1.1.0                    py37_1    anaconda\n",
      "terminado                 0.8.3                    py37_0    anaconda\n",
      "testpath                  0.4.4                      py_0    anaconda\n",
      "tk                        8.6.8                hfa6e2cd_0    anaconda\n",
      "toolz                     0.10.0                     py_0    anaconda\n",
      "torchvision               0.5.0                py37_cu101    pytorch\n",
      "tornado                   6.0.4            py37he774522_1    anaconda\n",
      "tqdm                      4.44.1                     py_0    anaconda\n",
      "traitlets                 4.3.3                    py37_0    anaconda\n",
      "typing_extensions         3.7.4.1                  py37_0    anaconda\n",
      "ujson                     1.35             py37hfa6e2cd_0    anaconda\n",
      "unicodecsv                0.14.1                   py37_0    anaconda\n",
      "urllib3                   1.25.8                   py37_0    anaconda\n",
      "vc                        14.1                 h0510ff6_4    anaconda\n",
      "vs2015_runtime            14.16.27012          hf0eaf9b_1    anaconda\n",
      "watchdog                  0.10.2                   py37_0    anaconda\n",
      "wcwidth                   0.1.9                      py_0    anaconda\n",
      "webencodings              0.5.1                    py37_1    anaconda\n",
      "werkzeug                  0.14.1                   py37_0    anaconda\n",
      "wheel                     0.34.2                   py37_0    anaconda\n",
      "widgetsnbextension        3.5.1                    py37_0    anaconda\n",
      "win_inet_pton             1.1.0                    py37_0    anaconda\n",
      "win_unicode_console       0.5                      py37_0    anaconda\n",
      "wincertstore              0.2                      py37_0    anaconda\n",
      "winpty                    0.4.3                         4    anaconda\n",
      "wrapt                     1.12.1           py37he774522_1    anaconda\n",
      "wrds                      3.0.8                    pypi_0    pypi\n",
      "xgboost                   1.0.2                    pypi_0    pypi\n",
      "xlrd                      1.2.0                    py37_0    anaconda\n",
      "xlsxwriter                1.2.8                      py_0    anaconda\n",
      "xlwings                   0.18.0                   py37_0    anaconda\n",
      "xlwt                      1.3.0                    py37_0    anaconda\n",
      "xmltodict                 0.12.0                     py_0    anaconda\n",
      "xz                        5.2.4                h2fa13f4_4    anaconda\n",
      "yaml                      0.1.7            vc14h4cb57cf_1  [vc14]  anaconda\n",
      "yapf                      0.28.0                     py_0    anaconda\n",
      "zeromq                    4.3.1                h33f27b4_3    anaconda\n",
      "zict                      2.0.0                      py_0    anaconda\n",
      "zipp                      2.2.0                      py_0    anaconda\n",
      "zlib                      1.2.11           vc14h1cdd9ab_1  [vc14]  anaconda\n",
      "zstd                      1.3.7                h508b16e_0    anaconda\n"
     ]
    }
   ],
   "source": [
    "!conda list\n",
    "# ! 없이도 실행됨"
   ]
  },
  {
   "cell_type": "markdown",
   "metadata": {
    "slideshow": {
     "slide_type": "slide"
    }
   },
   "source": [
    "# 참고\n",
    "## GitHub\n",
    "- 버전 관리 (version control) 프로그램\n",
    "    - 파일을 덮어쓰면서 생긴 history를 확인할 수 있음\n",
    "    - branch를 나눠 작업한 뒤, 작업이 끝나면 master branch로 merge를 할 수 있음\n",
    "\n",
    "\n",
    "- open source 코드들이 존재\n",
    "- git clone 명령어를 통해 저장소를 내려받을 수 있음\n",
    "    - ! git clone https://github.com/crux26/MFE\n",
    "    - current working directory (%pwd) 내부에 폴더가 생김"
   ]
  },
  {
   "cell_type": "markdown",
   "metadata": {
    "slideshow": {
     "slide_type": "slide"
    }
   },
   "source": [
    "## Useful sites\n",
    "- Stackoverflow: 프로그래밍 Q&A (https://stackoverflow.com/)\n",
    "- Cross-Validated: stat, ML, data analysis, data mining, data visualization 내용 Q&A (https://stats.stackexchange.com/)\n",
    "- Mathematics stack exchange: 수학 내용 Q&A (https://math.stackexchange.com/)\n",
    "- Coursera: 무료 강의 (https://www.coursera.org/)"
   ]
  },
  {
   "cell_type": "markdown",
   "metadata": {
    "slideshow": {
     "slide_type": "slide"
    }
   },
   "source": [
    "## References\n",
    "- Ramalho, Fluent Python\n",
    "- Lutz, Learning Python, 5th ed.\n",
    "- Lubanovic, Introducing Python\n",
    "- Hilpisch, Python for Finance\n",
    "- VanderPlas, Python Data Science Handbook"
   ]
  }
 ],
 "metadata": {
  "celltoolbar": "Slideshow",
  "kernelspec": {
   "display_name": "Python 3",
   "language": "python",
   "name": "python3"
  },
  "language_info": {
   "codemirror_mode": {
    "name": "ipython",
    "version": 3
   },
   "file_extension": ".py",
   "mimetype": "text/x-python",
   "name": "python",
   "nbconvert_exporter": "python",
   "pygments_lexer": "ipython3",
   "version": "3.7.7"
  },
  "toc": {
   "base_numbering": 1,
   "nav_menu": {},
   "number_sections": true,
   "sideBar": true,
   "skip_h1_title": false,
   "title_cell": "Table of Contents",
   "title_sidebar": "Contents",
   "toc_cell": true,
   "toc_position": {
    "height": "47px",
    "left": "76px",
    "top": "90px",
    "width": "387.77px"
   },
   "toc_section_display": true,
   "toc_window_display": true
  }
 },
 "nbformat": 4,
 "nbformat_minor": 4
}
