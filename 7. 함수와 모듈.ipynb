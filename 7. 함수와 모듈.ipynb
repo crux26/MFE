{
 "cells": [
  {
   "cell_type": "markdown",
   "metadata": {
    "slideshow": {
     "slide_type": "slide"
    }
   },
   "source": [
    "# Function\n",
    "- 함수 (function)은 하나의 이름으로 코드를 묶은 단위\n",
    "- 함수는 반복적인 코드를 없애주며 프로그램을 효율적으로 작성할 수 있게 해 줌\n",
    "- 함수로 작성한 프로그램은 디버깅과 수정, 관리가 용이"
   ]
  },
  {
   "cell_type": "markdown",
   "metadata": {
    "slideshow": {
     "slide_type": "fragment"
    }
   },
   "source": [
    "## syntax"
   ]
  },
  {
   "cell_type": "code",
   "execution_count": null,
   "metadata": {
    "slideshow": {
     "slide_type": "fragment"
    }
   },
   "outputs": [],
   "source": [
    "def FuncName(arg1, arg2, ... argN):\n",
    "    statements\n",
    "    return(result)"
   ]
  },
  {
   "cell_type": "markdown",
   "metadata": {
    "slideshow": {
     "slide_type": "fragment"
    }
   },
   "source": [
    "- without return statement, the function returns None"
   ]
  },
  {
   "cell_type": "code",
   "execution_count": 11,
   "metadata": {
    "slideshow": {
     "slide_type": "fragment"
    }
   },
   "outputs": [
    {
     "name": "stdout",
     "output_type": "stream",
     "text": [
      "print inside a function: 3\n",
      "print outside a function: None\n"
     ]
    }
   ],
   "source": [
    "def myFun(x):\n",
    "    print(f'print inside a function: {x}')\n",
    "\n",
    "print(f'print outside a function: {myFun(3)}')"
   ]
  },
  {
   "cell_type": "code",
   "execution_count": 4,
   "metadata": {
    "slideshow": {
     "slide_type": "subslide"
    }
   },
   "outputs": [
    {
     "name": "stdout",
     "output_type": "stream",
     "text": [
      "5\n",
      "12\n"
     ]
    }
   ],
   "source": [
    "def myAdd(a, b):\n",
    "    return(a+b)\n",
    "\n",
    "print(myAdd(2, 3))\n",
    "print(myAdd(7, 5))"
   ]
  },
  {
   "cell_type": "code",
   "execution_count": 35,
   "metadata": {
    "slideshow": {
     "slide_type": "fragment"
    }
   },
   "outputs": [
    {
     "name": "stdout",
     "output_type": "stream",
     "text": [
      "(3, 5, (8, 15))\n"
     ]
    }
   ],
   "source": [
    "# can return tuple or list too\n",
    "def myOper(x, y):\n",
    "    return(x, y, (x+y, x*y))\n",
    "#     return(x, y, [x+y, x*y])\n",
    "\n",
    "print(myOper(3,5))"
   ]
  },
  {
   "cell_type": "markdown",
   "metadata": {
    "slideshow": {
     "slide_type": "subslide"
    }
   },
   "source": [
    "## How a function assigns a value\n",
    "- 함수 밖에서 정의된 변수 값이 있을 때, 이를 함수 내부에서 바꾸고 덮어쓰는 것은 일반적으로 허용되지 않음\n",
    "    - function 내부에서, argument의 값을 copy해 이를 다른 memory 위치에다 일시적으로 저장\n"
   ]
  },
  {
   "cell_type": "code",
   "execution_count": 38,
   "metadata": {
    "slideshow": {
     "slide_type": "fragment"
    }
   },
   "outputs": [
    {
     "name": "stdout",
     "output_type": "stream",
     "text": [
      "680\n",
      "340\n"
     ]
    }
   ],
   "source": [
    "def f(x):\n",
    "    x = 680\n",
    "    return(x)\n",
    "\n",
    "y = 340\n",
    "print(f(y)) # no return statement; returns None\n",
    "print(y) # y hasn't changed inside a function"
   ]
  },
  {
   "cell_type": "code",
   "execution_count": 29,
   "metadata": {
    "slideshow": {
     "slide_type": "subslide"
    }
   },
   "outputs": [
    {
     "name": "stdout",
     "output_type": "stream",
     "text": [
      "\"x\" before assignment: 340\n",
      "\"x\" after assignment: 680\n",
      "680\n",
      "340\n"
     ]
    }
   ],
   "source": [
    "def f(x):\n",
    "    print(f'\"x\" before assignment: {x}') # \"x=y\" here. That is, \"x=340\"\n",
    "    x = 680\n",
    "    print(f'\"x\" after assignment: {x}') #\n",
    "    return(x)\n",
    "\n",
    "y = 340\n",
    "print(f(y))\n",
    "print(y) # \"x\" only lives within the function"
   ]
  },
  {
   "cell_type": "code",
   "execution_count": 41,
   "metadata": {
    "slideshow": {
     "slide_type": "subslide"
    }
   },
   "outputs": [
    {
     "name": "stdout",
     "output_type": "stream",
     "text": [
      "id of arg outside a func:  0x1ca2b3dfad0\n",
      "\"x\" before assignment: 340\n",
      "\"x\" after assignment: 680\n",
      "f(y): 680\n",
      "y: 340\n",
      "id of arg outside a func:  0x1ca2b3dfad0\n"
     ]
    }
   ],
   "source": [
    "def f(x):\n",
    "    print(f'\"x\" before assignment: {x}')\n",
    "    x = 680\n",
    "    print(f'\"x\" after assignment: {x}')\n",
    "#     print('id of arg inside a func: ',hex(id(x)))\n",
    "    return(x)\n",
    "\n",
    "y = 340\n",
    "print('id of arg outside a func: ', hex(id(y)))\n",
    "print(f'f(y): {f(y)}')\n",
    "print(f'y: {y}') # \"x\" only lives within the function\n",
    "print('id of arg outside a func: ', hex(id(y)))"
   ]
  },
  {
   "cell_type": "markdown",
   "metadata": {
    "slideshow": {
     "slide_type": "subslide"
    }
   },
   "source": [
    "## Arguments"
   ]
  },
  {
   "cell_type": "markdown",
   "metadata": {},
   "source": [
    "### keywords\n",
    "- keyword를 이용해 argument를 function에 pass할 수 있음"
   ]
  },
  {
   "cell_type": "code",
   "execution_count": 60,
   "metadata": {
    "slideshow": {
     "slide_type": "fragment"
    }
   },
   "outputs": [
    {
     "name": "stdout",
     "output_type": "stream",
     "text": [
      "x:1, y:3, z:5\n",
      "x:1, y:3, z:5\n",
      "x:1, y:3, z:5\n"
     ]
    }
   ],
   "source": [
    "def f(x, y, z):\n",
    "    return(f'x:{x}, y:{y}, z:{z}')\n",
    "\n",
    "print(f(1, 3, 5)) # default: match by position\n",
    "print(f(z=5, y=3, x=1)) # keyword argument; match by name\n",
    "print(f(1, z=5, y=3)) # \"x\" by position, others passed by name\n",
    "# print(f(z=5, y=3, 7))"
   ]
  },
  {
   "cell_type": "markdown",
   "metadata": {},
   "source": [
    "### default values\n",
    "- argument를 explicit하게 pass하지 않았을 시, default 값으로 지정해놓은 값을 대신 사용"
   ]
  },
  {
   "cell_type": "code",
   "execution_count": 182,
   "metadata": {},
   "outputs": [
    {
     "name": "stdout",
     "output_type": "stream",
     "text": [
      "x: 1, y: 5, z: 7\n",
      "x: 1, y: 5, z: 7\n",
      "x: 1, y: 5, z: 3\n"
     ]
    }
   ],
   "source": [
    "def f(x, y=5, z=7): # optional value (y, z here) should appear on right\n",
    "    return(f'x: {x}, y: {y}, z: {z}')\n",
    "\n",
    "print(f(1))\n",
    "print(f(x=1))\n",
    "print(f(1, z=3)) # override default of z (x by position)"
   ]
  },
  {
   "cell_type": "markdown",
   "metadata": {
    "slideshow": {
     "slide_type": "subslide"
    }
   },
   "source": [
    "## Collecting arguments\n",
    "- argument를 함수에 pass할 때, 함수 내부에서 이 argument들을 모아 하나의 tuple 혹은 dict로 만들 수 있음\n",
    "- parameter의 개수가 코드 작성 시 불확실할 때 사용\n",
    "- optional parameter들을 specify할 때 사용\n",
    "\n",
    "\n",
    "- \\* for unmatched *positional* arguments\n",
    "    - collects them into a tuple\n",
    "    \n",
    "\n",
    "- \\** for unmatched *keyword* arguments\n",
    "    - collect them into a dictionary"
   ]
  },
  {
   "cell_type": "markdown",
   "metadata": {
    "slideshow": {
     "slide_type": "subslide"
    }
   },
   "source": [
    "### collecting positional arguments"
   ]
  },
  {
   "cell_type": "code",
   "execution_count": 59,
   "metadata": {
    "slideshow": {
     "slide_type": "fragment"
    }
   },
   "outputs": [
    {
     "name": "stdout",
     "output_type": "stream",
     "text": [
      "()\n",
      "(1,)\n",
      "(1, 2, 3)\n",
      "(2, 3, 1)\n"
     ]
    }
   ],
   "source": [
    "def f(*args): #\"*\" collects arguments into a tuple, with a name \"args\"\n",
    "    return(args)\n",
    "    \n",
    "print(f())\n",
    "print(f(1))\n",
    "print(f(1,2,3))\n",
    "print(f(2,3,1))"
   ]
  },
  {
   "cell_type": "markdown",
   "metadata": {
    "slideshow": {
     "slide_type": "subslide"
    }
   },
   "source": [
    "### collecting keyword arguments"
   ]
  },
  {
   "cell_type": "code",
   "execution_count": 166,
   "metadata": {
    "slideshow": {
     "slide_type": "fragment"
    }
   },
   "outputs": [
    {
     "name": "stdout",
     "output_type": "stream",
     "text": [
      "{}\n",
      "{'a': 1, 'b': 2}\n"
     ]
    }
   ],
   "source": [
    "def f(**args): # \"**\" collects arguments into a dict\n",
    "    return(args)\n",
    "\n",
    "print(f())\n",
    "print(f(a=1, b=2))"
   ]
  },
  {
   "cell_type": "code",
   "execution_count": 124,
   "metadata": {
    "slideshow": {
     "slide_type": "subslide"
    }
   },
   "outputs": [
    {
     "name": "stdout",
     "output_type": "stream",
     "text": [
      "[3, 7]\n",
      "[3, 7, 10]\n",
      "[3, 7, 21]\n",
      "[3, 7, 10, 21]\n"
     ]
    }
   ],
   "source": [
    "def f(x, y, *pargs):\n",
    "    result = [x, y]\n",
    "    if 'sumFlag' in pargs:\n",
    "        result.append(x+y)\n",
    "    if 'multFlag' in pargs:\n",
    "        result.append(x*y)\n",
    "        \n",
    "    return(result)\n",
    "    \n",
    "print(f(3, 7))\n",
    "print(f(3, 7, 'sumFlag'))\n",
    "print(f(3, 7, 'multFlag'))\n",
    "print(f(3, 7, 'sumFlag', 'multFlag'))"
   ]
  },
  {
   "cell_type": "markdown",
   "metadata": {
    "slideshow": {
     "slide_type": "subslide"
    }
   },
   "source": [
    "### Combination\n",
    "- positional arguments와 keyword arguments를 동시에 pass해, 함수 내부에서 각각을 tuple/dict로 collect할 수 있음\n",
    "- \\*pargs는 \\**kargs에 선행해야 함"
   ]
  },
  {
   "cell_type": "code",
   "execution_count": 77,
   "metadata": {
    "slideshow": {
     "slide_type": "fragment"
    }
   },
   "outputs": [
    {
     "name": "stdout",
     "output_type": "stream",
     "text": [
      "(3, (5, 7, 9), {'x': 1, 'y': 9})\n"
     ]
    }
   ],
   "source": [
    "def f(arg, *pargs, **kargs):\n",
    "    return(arg, pargs, kargs)\n",
    "\n",
    "print(f(3, 5, 7, 9, x=1, y=9))"
   ]
  },
  {
   "cell_type": "markdown",
   "metadata": {
    "slideshow": {
     "slide_type": "subslide"
    }
   },
   "source": [
    "## Unpacking arguments\n",
    "- collecting arguments의 반대되는 개념\n",
    "\n",
    "- function의 argument를 tuple 혹은 dict로 pass한 뒤, function 내에서 이를 unpack할 수 있음\n",
    "\n",
    "- tuple을 pass할 때는 f(\\*pargs), dict를 pass할 때는 f(\\**kargs)를 사용"
   ]
  },
  {
   "cell_type": "code",
   "execution_count": 148,
   "metadata": {
    "slideshow": {
     "slide_type": "fragment"
    }
   },
   "outputs": [
    {
     "name": "stdout",
     "output_type": "stream",
     "text": [
      "a: 7, b: 2, c: 3, d: 8\n",
      "a: 1, b: 2, c: 9, d: 5\n"
     ]
    }
   ],
   "source": [
    "def f(a, b, c, d):\n",
    "    return(f'a: {a}, b: {b}, c: {c}, d: {d}')\n",
    "    \n",
    "args = (7,2,3,8)\n",
    "print(f(*args))\n",
    "\n",
    "args = dict(a=1, b=2, c=9, d=5)\n",
    "print(f(**args))"
   ]
  },
  {
   "cell_type": "markdown",
   "metadata": {
    "slideshow": {
     "slide_type": "subslide"
    }
   },
   "source": [
    "### Combination\n",
    "- tuple/dict를 동시에 argument로 받아, 함수 내부에서 각각을 unpack할 수 있음\n",
    "- \\*pargs는 \\**kargs에 선행해야 함\n",
    "- def f(args, \\*pargs, \\**kargs)"
   ]
  },
  {
   "cell_type": "code",
   "execution_count": 163,
   "metadata": {
    "slideshow": {
     "slide_type": "fragment"
    }
   },
   "outputs": [
    {
     "name": "stdout",
     "output_type": "stream",
     "text": [
      "a: 7, b: 2, c: 3, d: 5\n",
      "a: 7, b: 2, c: 3, d: 5\n",
      "a: 7, b: 2, c: 3, d: 5\n",
      "a: 7, b: 2, c: 3, d: 5\n",
      "a: 7, b: 2, c: 3, d: 5\n"
     ]
    }
   ],
   "source": [
    "print(f(*(7,2), **dict(d=5, c=3)))\n",
    "print(f(7, *(2, 3), **dict(d=5)))\n",
    "\n",
    "print(f(7, c=3, *(2,), **dict(d=5)))\n",
    "print(f(7, *(2, 3), d=5))\n",
    "\n",
    "print(f(7, *(2,), d=5, **dict(c=3)))"
   ]
  },
  {
   "cell_type": "markdown",
   "metadata": {},
   "source": [
    "## Apply functions in generic"
   ]
  },
  {
   "cell_type": "code",
   "execution_count": 181,
   "metadata": {
    "slideshow": {
     "slide_type": "subslide"
    }
   },
   "outputs": [
    {
     "data": {
      "text/plain": [
       "16"
      ]
     },
     "execution_count": 181,
     "metadata": {},
     "output_type": "execute_result"
    }
   ],
   "source": [
    "def myAdd(*args):\n",
    "    return(sum(args))\n",
    "\n",
    "def myMult(*args):\n",
    "    import numpy as np\n",
    "    return(np.prod(args))\n",
    "\n",
    "myOper = 'Add'\n",
    "# myOper = 'Mult'\n",
    "\n",
    "if myOper == 'Add' :\n",
    "    action, args = myAdd, (6, 10)\n",
    "elif myOper == 'Mult':\n",
    "    action, args = myMult, (2, 3, 4, 5)\n",
    "    \n",
    "action(*(args))"
   ]
  },
  {
   "cell_type": "code",
   "execution_count": null,
   "metadata": {
    "slideshow": {
     "slide_type": "subslide"
    }
   },
   "outputs": [],
   "source": [
    "def f(x, y, *pargs):\n",
    "    result = [x, y]\n",
    "    if 'sumFlag' in pargs:\n",
    "        result.append(x+y)\n",
    "    if 'multFlag' in pargs:\n",
    "        result.append(x*y)\n",
    "        \n",
    "    return(result)\n",
    "    \n",
    "print(f(3, 7))\n",
    "print(f(3, 7, 'sumFlag'))\n",
    "print(f(3, 7, 'multFlag'))\n",
    "print(f(3, 7, 'sumFlag', 'multFlag'))"
   ]
  },
  {
   "cell_type": "markdown",
   "metadata": {},
   "source": [
    "## keyword-only arguments\n",
    "- keyword로만 함수에 pass할 수 있음\n",
    "    - positional argument로는 pass할 수 없음\n",
    "    \n",
    "    \n",
    "- def f(a, \\*b, c)\n",
    "- a: passed by name or position\n",
    "- b: any extra positional arguments\n",
    "- c: must be passed by keyword only"
   ]
  },
  {
   "cell_type": "code",
   "execution_count": 21,
   "metadata": {},
   "outputs": [
    {
     "name": "stdout",
     "output_type": "stream",
     "text": [
      "(1, (2,), 3)\n",
      "(1, (), 3)\n",
      "(1, ((2, 3, 4),), 5)\n"
     ]
    }
   ],
   "source": [
    "def kwonly(a, *b, c): # \"c\" must be passed with a keyword\n",
    "    return(a, b, c)\n",
    "\n",
    "print(kwonly(1, 2, c=3))\n",
    "print(kwonly(a=1, c=3))\n",
    "print(kwonly(1, (2,3,4), c=5))\n",
    "\n",
    "\n",
    "# print(kwonly(1, 2, 3)) # error"
   ]
  },
  {
   "cell_type": "markdown",
   "metadata": {
    "slideshow": {
     "slide_type": "subslide"
    }
   },
   "source": [
    "### \\* by itself in the argument\n",
    "\n",
    "- * 다음에 specify된 변수들을 keyword argument로만 받음\n",
    "- *args의 경우와는 달리, variable-length argument는 받지 않음"
   ]
  },
  {
   "cell_type": "code",
   "execution_count": 1,
   "metadata": {
    "slideshow": {
     "slide_type": "fragment"
    }
   },
   "outputs": [
    {
     "name": "stdout",
     "output_type": "stream",
     "text": [
      "(1, 2, 3)\n",
      "(1, 2, 3)\n"
     ]
    },
    {
     "ename": "TypeError",
     "evalue": "kwonly() takes 1 positional argument but 3 were given",
     "output_type": "error",
     "traceback": [
      "\u001b[1;31m---------------------------------------------------------------------------\u001b[0m",
      "\u001b[1;31mTypeError\u001b[0m                                 Traceback (most recent call last)",
      "\u001b[1;32m<ipython-input-1-709b81e2caa1>\u001b[0m in \u001b[0;36m<module>\u001b[1;34m\u001b[0m\n\u001b[0;32m      4\u001b[0m \u001b[0mprint\u001b[0m\u001b[1;33m(\u001b[0m\u001b[0mkwonly\u001b[0m\u001b[1;33m(\u001b[0m\u001b[1;36m1\u001b[0m\u001b[1;33m,\u001b[0m \u001b[0mc\u001b[0m\u001b[1;33m=\u001b[0m\u001b[1;36m3\u001b[0m\u001b[1;33m,\u001b[0m \u001b[0mb\u001b[0m\u001b[1;33m=\u001b[0m\u001b[1;36m2\u001b[0m\u001b[1;33m)\u001b[0m\u001b[1;33m)\u001b[0m\u001b[1;33m\u001b[0m\u001b[1;33m\u001b[0m\u001b[0m\n\u001b[0;32m      5\u001b[0m \u001b[0mprint\u001b[0m\u001b[1;33m(\u001b[0m\u001b[0mkwonly\u001b[0m\u001b[1;33m(\u001b[0m\u001b[0mc\u001b[0m\u001b[1;33m=\u001b[0m\u001b[1;36m3\u001b[0m\u001b[1;33m,\u001b[0m \u001b[0mb\u001b[0m\u001b[1;33m=\u001b[0m\u001b[1;36m2\u001b[0m\u001b[1;33m,\u001b[0m \u001b[0ma\u001b[0m\u001b[1;33m=\u001b[0m\u001b[1;36m1\u001b[0m\u001b[1;33m)\u001b[0m\u001b[1;33m)\u001b[0m\u001b[1;33m\u001b[0m\u001b[1;33m\u001b[0m\u001b[0m\n\u001b[1;32m----> 6\u001b[1;33m \u001b[0mprint\u001b[0m\u001b[1;33m(\u001b[0m\u001b[0mkwonly\u001b[0m\u001b[1;33m(\u001b[0m\u001b[1;36m1\u001b[0m\u001b[1;33m,\u001b[0m \u001b[1;36m2\u001b[0m\u001b[1;33m,\u001b[0m \u001b[1;36m3\u001b[0m\u001b[1;33m)\u001b[0m\u001b[1;33m)\u001b[0m\u001b[1;33m\u001b[0m\u001b[1;33m\u001b[0m\u001b[0m\n\u001b[0m",
      "\u001b[1;31mTypeError\u001b[0m: kwonly() takes 1 positional argument but 3 were given"
     ]
    }
   ],
   "source": [
    "def kwonly(a, *, b, c): # b, c must be passed with keywords\n",
    "    return(a, b, c)\n",
    "    \n",
    "print(kwonly(1, c=3, b=2))\n",
    "print(kwonly(c=3, b=2, a=1))\n",
    "print(kwonly(1, 2, 3))"
   ]
  },
  {
   "cell_type": "markdown",
   "metadata": {
    "slideshow": {
     "slide_type": "subslide"
    }
   },
   "source": [
    "### keyword-only arguments with default values\n",
    "- def f(a, \\*, b=val1, c=val2)\n",
    "- b, c는 pass하지 않아도 됨\n",
    "- b 혹은 c를 pass하는 경우, 반드시 keyword argument로 해야 함"
   ]
  },
  {
   "cell_type": "code",
   "execution_count": 47,
   "metadata": {
    "slideshow": {
     "slide_type": "fragment"
    }
   },
   "outputs": [
    {
     "name": "stdout",
     "output_type": "stream",
     "text": [
      "(3, 'spam', 'ham')\n",
      "(3, 'spam', 'ham')\n",
      "(3, 'spam', 'char')\n"
     ]
    }
   ],
   "source": [
    "def kwonly(a, *, b='spam', c='ham'):\n",
    "    return(a, b, c)\n",
    "\n",
    "print(kwonly(3))\n",
    "print(kwonly(a=3))\n",
    "print(kwonly(c='char', a=3))"
   ]
  },
  {
   "cell_type": "markdown",
   "metadata": {
    "slideshow": {
     "slide_type": "subslide"
    }
   },
   "source": [
    "### no position-only arguments\n",
    "- def ponly(a, $**$, b, c)의 문법은 허용되지 않음\n",
    "- def ponly(a, $**$kargs, b)의 문법은 허용되지 않음"
   ]
  },
  {
   "cell_type": "code",
   "execution_count": 72,
   "metadata": {
    "slideshow": {
     "slide_type": "fragment"
    }
   },
   "outputs": [
    {
     "ename": "SyntaxError",
     "evalue": "invalid syntax (<ipython-input-72-849e9525178b>, line 7)",
     "output_type": "error",
     "traceback": [
      "\u001b[1;36m  File \u001b[1;32m\"<ipython-input-72-849e9525178b>\"\u001b[1;36m, line \u001b[1;32m7\u001b[0m\n\u001b[1;33m    def kwonly(a, **kargs, b): pass # SyntaxError\u001b[0m\n\u001b[1;37m                           ^\u001b[0m\n\u001b[1;31mSyntaxError\u001b[0m\u001b[1;31m:\u001b[0m invalid syntax\n"
     ]
    }
   ],
   "source": [
    "def kwonly(*pargs): pass\n",
    "def kwonly(a, *pargs): pass\n",
    "def kwonly(a, *pargs, b): pass\n",
    "\n",
    "def kwonly(**kargs): pass\n",
    "def kwonly(a, **kargs): pass\n",
    "def kwonly(a, **kargs, b): pass # SyntaxError"
   ]
  },
  {
   "cell_type": "code",
   "execution_count": 71,
   "metadata": {
    "slideshow": {
     "slide_type": "fragment"
    }
   },
   "outputs": [
    {
     "ename": "SyntaxError",
     "evalue": "invalid syntax (<ipython-input-71-6ef59c8f7332>, line 2)",
     "output_type": "error",
     "traceback": [
      "\u001b[1;36m  File \u001b[1;32m\"<ipython-input-71-6ef59c8f7332>\"\u001b[1;36m, line \u001b[1;32m2\u001b[0m\n\u001b[1;33m    def kwonly(a, *pargs, **kargs, b): pass # SyntaxError\u001b[0m\n\u001b[1;37m                                   ^\u001b[0m\n\u001b[1;31mSyntaxError\u001b[0m\u001b[1;31m:\u001b[0m invalid syntax\n"
     ]
    }
   ],
   "source": [
    "def kwonly(a, *pargs, **kargs): pass\n",
    "def kwonly(a, *pargs, **kargs, b): pass # SyntaxError"
   ]
  },
  {
   "cell_type": "code",
   "execution_count": 70,
   "metadata": {
    "slideshow": {
     "slide_type": "fragment"
    }
   },
   "outputs": [
    {
     "ename": "SyntaxError",
     "evalue": "invalid syntax (<ipython-input-70-4c9443df5c94>, line 2)",
     "output_type": "error",
     "traceback": [
      "\u001b[1;36m  File \u001b[1;32m\"<ipython-input-70-4c9443df5c94>\"\u001b[1;36m, line \u001b[1;32m2\u001b[0m\n\u001b[1;33m    def kwonly(a, **, b, c): pass # SyntaxError\u001b[0m\n\u001b[1;37m                    ^\u001b[0m\n\u001b[1;31mSyntaxError\u001b[0m\u001b[1;31m:\u001b[0m invalid syntax\n"
     ]
    }
   ],
   "source": [
    "def kwonly(a, *, b, c): pass\n",
    "def kwonly(a, **, b, c): pass # SyntaxError"
   ]
  },
  {
   "cell_type": "markdown",
   "metadata": {
    "slideshow": {
     "slide_type": "subslide"
    }
   },
   "source": [
    "Q) 다음의 코드를 실행했을 시의 결과는?"
   ]
  },
  {
   "cell_type": "code",
   "execution_count": null,
   "metadata": {
    "slideshow": {
     "slide_type": "fragment"
    }
   },
   "outputs": [],
   "source": [
    "# Q1)\n",
    "def f1(a, b=3, c=5):\n",
    "    print(a, b, c)\n",
    "    \n",
    "f1(3, 5)\n",
    "\n",
    "#Q2)\n",
    "def f2(a, b, c=5):\n",
    "    print(a, b, c)\n",
    "    \n",
    "f2(1, c=3, b=5)\n",
    "\n",
    "# Q3\n",
    "def f3(a, *pargs):\n",
    "    print(a, pargs)\n",
    "    \n",
    "f3(1, 3, 5)\n",
    "\n",
    "# Q4\n",
    "def f4(a, **kargs):\n",
    "    print(a, kargs)\n",
    "    \n",
    "f4(a=3, c=2, b=7)\n",
    "\n",
    "# Q5\n",
    "def f5(a, b, c=3, d=5): \n",
    "    print(a, b, c, d)\n",
    "    \n",
    "f5(1, *(5, 6))"
   ]
  },
  {
   "cell_type": "markdown",
   "metadata": {},
   "source": [
    "# lambda\n",
    "- def를 통해 정의하는 일반적인 함수의 간소화 버젼\n",
    "- def를 사용할 때와는 달리, lambda에서는 block of statements를 실행할 수 없음\n",
    "- def에 비해 추가적인 특징은 없음\n",
    "- 간단하게 임의의 함수를 정의해야 할 때, def 대신 사용\n",
    "\n",
    "\n",
    "- lambda arg1, arg2, ..., argN: statement"
   ]
  },
  {
   "cell_type": "code",
   "execution_count": 97,
   "metadata": {},
   "outputs": [
    {
     "name": "stdout",
     "output_type": "stream",
     "text": [
      "def: 8\n",
      "lambda: 8\n",
      "abcdef\n",
      "yzcdef\n"
     ]
    }
   ],
   "source": [
    "# f1, f2 are equivalent\n",
    "def f1(x, y):\n",
    "    return(x+y)\n",
    "\n",
    "print('def:', f1(3,5))\n",
    "\n",
    "f2 = lambda x, y: x+y\n",
    "print('lambda:', f2(3,5))\n",
    "\n",
    "# default values\n",
    "f3 = lambda x='ab', y='cd', z='ef': x+y+z\n",
    "print(f3())\n",
    "print(f3('yz'))"
   ]
  },
  {
   "cell_type": "code",
   "execution_count": 99,
   "metadata": {},
   "outputs": [
    {
     "name": "stdout",
     "output_type": "stream",
     "text": [
      "4\n",
      "16\n",
      "--------------------------------------------------------------------------------\n",
      "4\n",
      "16\n"
     ]
    }
   ],
   "source": [
    "# f4, f7 are equivalent\n",
    "f4 = [lambda x: x, lambda x: x**2] # list of lambda\n",
    "for f4_ in f4:\n",
    "    print(f4_(4))\n",
    "    \n",
    "print('-'*80)\n",
    "def f5(x): return x\n",
    "def f6(x): return x**2\n",
    "\n",
    "f7 = [f5, f6]\n",
    "for f7_ in f7:\n",
    "    print(f7_(4))"
   ]
  },
  {
   "cell_type": "markdown",
   "metadata": {
    "slideshow": {
     "slide_type": "slide"
    }
   },
   "source": [
    "# Module\n",
    "- 모듈 (module)은 변수와 함수들이 정의된 파이썬 파일 (.py 확장자)\n",
    "\n",
    "\n",
    "- import ModuleName을 통해 module 전체를 import할 수 있고, module내의 함수를 사용하기 위해서는 ModuleName.FunctionName의 문법을 사용한다.\n",
    "    - from ModuleName import *을 통해 같은 결과를 얻을 수 있다.\n",
    "\n",
    "\n",
    "- from ModuleName import FunctionName으로 FunctionName을 import할 수 있고, 이 함수를 사용하기 위해서는 FunctionName의 문법을 사용한다.\n",
    "\n",
    "\n",
    "- import ModuleName은 최초에만 import를 하게 되어있음\n",
    "- 최초 import후 script의 내용을 바꾼 다음 import를 하더라도 최초의 내용으로 고정됨\n",
    "- 다시 불러오기 위해서는 reload function을 사용해야 함\n"
   ]
  },
  {
   "cell_type": "code",
   "execution_count": 100,
   "metadata": {
    "slideshow": {
     "slide_type": "subslide"
    }
   },
   "outputs": [
    {
     "name": "stdout",
     "output_type": "stream",
     "text": [
      "4.5\n",
      "3.0276503540974917\n",
      "--------------------------------------------------------------------------------\n",
      "4.5\n",
      "3.0276503540974917\n"
     ]
    }
   ],
   "source": [
    "# example\n",
    "x = list(range(10))\n",
    "import statistics\n",
    "print(statistics.mean(x))\n",
    "print(statistics.stdev(x))\n",
    "\n",
    "print('-'*80)\n",
    "\n",
    "from statistics import mean, stdev\n",
    "print(mean(x))\n",
    "print(stdev(x))"
   ]
  },
  {
   "cell_type": "code",
   "execution_count": 143,
   "metadata": {},
   "outputs": [
    {
     "name": "stdout",
     "output_type": "stream",
     "text": [
      "Hello, world!\n"
     ]
    }
   ],
   "source": [
    "!python \"C:\\local\\myCode.py\""
   ]
  },
  {
   "cell_type": "code",
   "execution_count": 115,
   "metadata": {},
   "outputs": [],
   "source": [
    "import os\n",
    "os.getcwd() # current path\n",
    "os.chdir(\"C:\\local\") # change path\n",
    "import myCode # print('Hello, world!')"
   ]
  },
  {
   "cell_type": "code",
   "execution_count": 110,
   "metadata": {},
   "outputs": [],
   "source": [
    "import myCode # does not import"
   ]
  },
  {
   "cell_type": "code",
   "execution_count": 116,
   "metadata": {},
   "outputs": [
    {
     "name": "stdout",
     "output_type": "stream",
     "text": [
      "Hello, world!\n"
     ]
    },
    {
     "data": {
      "text/plain": [
       "<module 'myCode' from 'C:\\\\local\\\\myCode.py'>"
      ]
     },
     "execution_count": 116,
     "metadata": {},
     "output_type": "execute_result"
    }
   ],
   "source": [
    "from imp import reload\n",
    "reload(myCode)"
   ]
  },
  {
   "cell_type": "code",
   "execution_count": 153,
   "metadata": {},
   "outputs": [
    {
     "name": "stdout",
     "output_type": "stream",
     "text": [
      "C:\\Users\\crux_\n"
     ]
    }
   ],
   "source": [
    "cd"
   ]
  },
  {
   "cell_type": "code",
   "execution_count": 144,
   "metadata": {},
   "outputs": [],
   "source": [
    "!python \"C:\\local\\MovieTitle.py\""
   ]
  },
  {
   "cell_type": "code",
   "execution_count": 154,
   "metadata": {},
   "outputs": [
    {
     "name": "stdout",
     "output_type": "stream",
     "text": [
      "The Life of Pi\n",
      "The Life of Pi\n"
     ]
    }
   ],
   "source": [
    "import os\n",
    "os.getcwd() # current path\n",
    "os.chdir(\"C:\\local\") # change path\n",
    "import MovieTitle\n",
    "print(MovieTitle.title)\n",
    "\n",
    "from MovieTitle import title\n",
    "print(title)"
   ]
  },
  {
   "cell_type": "code",
   "execution_count": 156,
   "metadata": {},
   "outputs": [
    {
     "name": "stdout",
     "output_type": "stream",
     "text": [
      "apple banana carrot\n",
      "apple banana carrot\n"
     ]
    }
   ],
   "source": [
    "import os\n",
    "os.getcwd() # current path\n",
    "os.chdir(\"C:\\local\") # change path\n",
    "import threeVars\n",
    "print(threeVars.a, threeVars.b, threeVars.c)\n",
    "\n",
    "from threeVars import a, b, c\n",
    "print(a, b, c)"
   ]
  }
 ],
 "metadata": {
  "celltoolbar": "Slideshow",
  "kernelspec": {
   "display_name": "Python 3",
   "language": "python",
   "name": "python3"
  },
  "language_info": {
   "codemirror_mode": {
    "name": "ipython",
    "version": 3
   },
   "file_extension": ".py",
   "mimetype": "text/x-python",
   "name": "python",
   "nbconvert_exporter": "python",
   "pygments_lexer": "ipython3",
   "version": "3.7.7"
  },
  "toc": {
   "base_numbering": 1,
   "nav_menu": {},
   "number_sections": true,
   "sideBar": true,
   "skip_h1_title": false,
   "title_cell": "Table of Contents",
   "title_sidebar": "Contents",
   "toc_cell": false,
   "toc_position": {
    "height": "calc(100% - 180px)",
    "left": "10px",
    "top": "150px",
    "width": "165px"
   },
   "toc_section_display": true,
   "toc_window_display": true
  }
 },
 "nbformat": 4,
 "nbformat_minor": 4
}
